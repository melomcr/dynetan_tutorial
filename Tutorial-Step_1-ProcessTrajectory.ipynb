{
 "cells": [
  {
   "cell_type": "markdown",
   "metadata": {},
   "source": [
    "# Generalized Network Analysis Tutorial - Step 1\n",
    "\n",
    "In this tutorial, we will use the Dynamic Network Analysis python package to explore the interactions between the OMP decarboxylase enzyme and its substrate, identifying clusters of amino acid residues that form domains, and active site residues that are important for binding and enzymatic activity.\n",
    "\n",
    "The tutorial is divided into two jupyter notebooks. In this notebook, **Step 1**, we will analyze the MD trajectory for the OMP decarboxylase system and generate the network data used for analysis. \n",
    "\n",
    "![](./toolkit/figures/OMP-System-Network.png)\n",
    "__Figure 1:__ The OMP decarboxylase enzyme and its substrate are shown on the left, where a cartoon representation was used to trace the backbone of the protein and a ball-and-stick representaion was used for the OMP. On the right, the network representation was overlayed on the system. The red tubes represent edges connecting network nodes with correlated motion, and the protein colors represent communities of nodes that show concerted movement. Red spheres represent structural water molecules automatically detected by the method."
   ]
  },
  {
   "cell_type": "markdown",
   "metadata": {},
   "source": [
    "In the accompanying notebook, **Step 2**, we will load the data generated in the Step 1, and create analysis plots and visualizations of the network. \n",
    "\n",
    "In **Step 3**, which is outside of the jupyter notebook environment, we will produce high-quality renderings of the network using the popular visualization software VMD.\n",
    "\n",
    "\n",
    "\n",
    "\n",
    "**Important 1:**\n",
    "\n",
    "If you are not familiar with Jupyter Notebooks, please take some time to watch a video tutorial, such as this:\n",
    "\n",
    "https://www.youtube.com/watch?v=HW29067qVWk\n",
    "\n",
    "If you are not familiar with VMD, you can find tutorials on how to use VMD here:\n",
    "\n",
    "https://www.ks.uiuc.edu/Training/Tutorials/\n",
    "\n",
    "\n",
    "\n",
    "**Important 2:**\n",
    "\n",
    "Here, we use a language that is common among computational structural biophysicists. For instance:\n",
    "\n",
    "The word **residue** is typically used to represent both an amino acid residue, or any other small molecule in the system, such as a ligand.\n",
    "\n",
    "The word **segment** and also **segID** is typically used to represent a polymer chain, such as a protein, or a group of molecules in a lipid bilayer. Protein complexes would therefore be formed by multiple segments."
   ]
  },
  {
   "cell_type": "markdown",
   "metadata": {},
   "source": [
    "# Download Trajectory Data\n",
    "The trajectory files used in this tutorial have approximately 500MB in size, and must be downloaded from the following link:\n",
    "\n",
    "[Link to trajectory data](https://compbiophysics.auburn.edu/DyNetAn_Tutorial/data/DynamicNetworkAnalysis_MDdata.tar.gz) \n",
    "\n",
    "### Extract into the tutorial folder\n",
    "After extracting the data, place the files in the *TutorialData* folder.\n"
   ]
  },
  {
   "cell_type": "code",
   "execution_count": 1,
   "metadata": {
    "ExecuteTime": {
     "end_time": "2023-02-20T18:36:22.824935Z",
     "start_time": "2023-02-20T18:36:20.066336Z"
    }
   },
   "outputs": [],
   "source": [
    "# Load the python package\n",
    "import dynetan as dna\n",
    "\n",
    "# Create the object that processes MD trajectories.\n",
    "dnap = dna.proctraj.DNAproc()"
   ]
  },
  {
   "cell_type": "markdown",
   "metadata": {},
   "source": [
    "\n",
    "# System information:\n",
    "To get started, we need some basic information about the system:\n",
    "- Work directory where we will find relevant files.\n",
    "- Names of PSF and DCD files.\n",
    "- segid's for the regions that will be used for network analysis.\n",
    "- Name of the solvent residue(s) [default: TIP3]\n",
    "- Number of windows into which the trajectory will be split. [default: 1]\n",
    "- Name of atom(s) that will represent node(s) in each residue.\n",
    "- Names of atoms in node groups.\n",
    "\n",
    "**You can find a complete list of supported trajectory formats [here](https://www.mdanalysis.org/docs/documentation_pages/coordinates/init.html#supported-coordinate-formats):**\n"
   ]
  },
  {
   "cell_type": "code",
   "execution_count": 2,
   "metadata": {
    "ExecuteTime": {
     "end_time": "2023-02-20T18:36:22.828760Z",
     "start_time": "2023-02-20T18:36:22.826000Z"
    },
    "scrolled": true
   },
   "outputs": [],
   "source": [
    "import os\n",
    "\n",
    "# Path where input files are located and results will be written.\n",
    "workDir = \"./TutorialData/\"\n",
    "\n",
    "# PSF file name\n",
    "psfFile = os.path.join(workDir, \"decarboxylase.0.psf\")\n",
    "\n",
    "# DCD file name\n",
    "dcdFiles = [os.path.join(workDir, \"decarboxylase.1.dcd\")]\n",
    "# dcdFiles = [os.path.join(workDir, \"decarboxylase.1.short.dcd\")]\n",
    "\n",
    "ligandSegID = \"OMP\"\n",
    "\n",
    "# Segment IDs for regions that will be studied.\n",
    "segIDs = [\"OMP\",\"ENZY\"]\n",
    "\n",
    "# Residue name for solvent molecule(s)\n",
    "h2oName = [\"TIP3\"]\n",
    "\n",
    "# Number of windows created from full simulation.\n",
    "numWinds = 4\n",
    "\n",
    "# Sampled frames per window\n",
    "numSampledFrames = 10\n",
    "\n",
    "#################################\n",
    "### Extra configuration - Default values are given below\n",
    "\n",
    "# Cutoff for contact map (In Angstroms)\n",
    "cutoffDist = 4.5\n",
    "\n",
    "# Minimum contact persistence (In ratio of total trajectory frames)\n",
    "contactPersistence = 0.75"
   ]
  },
  {
   "cell_type": "markdown",
   "metadata": {},
   "source": [
    "## Node Groups\n",
    "\n",
    "In Network Analysis, each residue is represented by one or more \"nodes\", serving as proxies for groups of atoms which form the original residue (Figure 2). This approach lowers computational costs and noise. \n",
    "\n",
    "![](./toolkit/figures/nodeAtomGroup.png)\n",
    "__Figure 2:__ (a) and (b) represent a chain of amino acids and a nucleotide, respectively. (c) and (d) represent the same molecules but highlight the difference between a node (alpha carbon in amino acids, and nitrogen and phosphate in nucleotides) and the group of atoms that the node represents.\n",
    "\n",
    "The Dynamical Network Analysis package will automatically create one node per protein residue using the alpha carbon as the representative atom for the node (see Figure 2 a and c above). This selection can be modified for one or all amino acids by manually defining node groups.\n",
    "\n",
    "For non-proteic residues such as nucleotides (see Figure 2 b and d above), the user must specify atom(s) which will represent at least one node per residue. For each node, we also need to know which heavy atoms from the residue compose each node group."
   ]
  },
  {
   "cell_type": "code",
   "execution_count": 3,
   "metadata": {
    "ExecuteTime": {
     "end_time": "2023-02-20T18:36:22.832102Z",
     "start_time": "2023-02-20T18:36:22.829457Z"
    }
   },
   "outputs": [],
   "source": [
    "\n",
    "usrNodeGroups = {}\n",
    "\n",
    "usrNodeGroups[\"TIP3\"] = {}\n",
    "usrNodeGroups[\"TIP3\"][\"OH2\"] = set(\"OH2 H1 H2\".split())\n",
    "\n",
    "usrNodeGroups[\"OMP\"] = {}\n",
    "usrNodeGroups[\"OMP\"][\"N1\"] = set(\"N1 C2 O2 N3 C4 O4 C5 C6 C7 OA OB\".split())\n",
    "usrNodeGroups[\"OMP\"][\"P\"] = set(\"P OP1 OP2 OP3 O5' C5' C4' O4' C1' C3' C2' O2' O3'\".split())"
   ]
  },
  {
   "cell_type": "markdown",
   "metadata": {},
   "source": [
    "Now we load the information into the DNA object."
   ]
  },
  {
   "cell_type": "code",
   "execution_count": 4,
   "metadata": {
    "ExecuteTime": {
     "end_time": "2023-02-20T18:36:22.835286Z",
     "start_time": "2023-02-20T18:36:22.833041Z"
    }
   },
   "outputs": [],
   "source": [
    "#################################\n",
    "### Load info to object\n",
    "\n",
    "dnap.setNumWinds(numWinds)\n",
    "dnap.setNumSampledFrames(numSampledFrames)\n",
    "dnap.setCutoffDist(cutoffDist)\n",
    "dnap.setContactPersistence(contactPersistence)\n",
    "dnap.setSolvNames(h2oName)\n",
    "dnap.setSegIDs(segIDs)\n",
    "\n",
    "dnap.setNodeGroups(usrNodeGroups)"
   ]
  },
  {
   "cell_type": "markdown",
   "metadata": {},
   "source": [
    "# Load the trajectory\n",
    "\n",
    "Now that all parameters are defined and loaded, we can start analyzing the simulation.\n",
    "\n",
    "Our Generalized Network Analysis leverages the MDAnalysis package to create a *universe* that contains all the trajectory and system information."
   ]
  },
  {
   "cell_type": "code",
   "execution_count": 5,
   "metadata": {
    "ExecuteTime": {
     "end_time": "2023-02-20T18:36:23.161554Z",
     "start_time": "2023-02-20T18:36:22.836095Z"
    }
   },
   "outputs": [],
   "source": [
    "dnap.loadSystem(psfFile,dcdFiles)"
   ]
  },
  {
   "cell_type": "code",
   "execution_count": 6,
   "metadata": {
    "ExecuteTime": {
     "end_time": "2023-02-20T18:36:23.167786Z",
     "start_time": "2023-02-20T18:36:23.162377Z"
    }
   },
   "outputs": [
    {
     "data": {
      "text/plain": [
       "<ChainReader containing decarboxylase.1.dcd with 1001 frames of 48341 atoms>"
      ]
     },
     "execution_count": 6,
     "metadata": {},
     "output_type": "execute_result"
    }
   ],
   "source": [
    "# We can access the trajectory data directly using the `getU` method.\n",
    "dnap.getU().trajectory"
   ]
  },
  {
   "cell_type": "markdown",
   "metadata": {},
   "source": [
    "### Checks segments and residue names\n",
    "\n",
    "It is important to know if there are residues in the structure that we are unaware of and need to be addressed. Otherwise, network analysis will not be able to create nodes in all selected residues."
   ]
  },
  {
   "cell_type": "code",
   "execution_count": 7,
   "metadata": {
    "ExecuteTime": {
     "end_time": "2023-02-20T18:36:23.211187Z",
     "start_time": "2023-02-20T18:36:23.168583Z"
    },
    "scrolled": false
   },
   "outputs": [
    {
     "name": "stdout",
     "output_type": "stream",
     "text": [
      "\u001b[34mResidue verification:\n",
      "\u001b[39m\n",
      "---> SegID  \u001b[32mENZY \u001b[39m: 19 unique residue types:\n",
      "{'ARG', 'LYS', 'ALA', 'THR', 'PRO', 'GLU', 'VAL', 'GLY', 'TYR', 'SER', 'ASN', 'HSD', 'CYS', 'MET', 'ASP', 'PHE', 'ILE', 'LEU', 'GLN'}\n",
      "\n",
      "---> SegID  \u001b[32mOMP \u001b[39m: 1 unique residue types:\n",
      "{'OMP'}\n",
      "\n",
      "---> 20 total selected residue types:\n",
      "{'HSD', 'ARG', 'LYS', 'CYS', 'MET', 'OMP', 'ALA', 'ASP', 'THR', 'PHE', 'PRO', 'GLU', 'VAL', 'GLY', 'ILE', 'TYR', 'SER', 'ASN', 'LEU', 'GLN'}\n",
      "\n",
      "---> 2 \u001b[31mnot-selected\u001b[39m residue types in other segments:\n",
      "{'TIP3', 'SOD'}\n",
      "\n",
      "---> 22 total residue types:\n",
      "{'TIP3', 'HSD', 'SOD', 'ARG', 'LYS', 'CYS', 'MET', 'OMP', 'ALA', 'ASP', 'THR', 'PHE', 'PRO', 'GLU', 'VAL', 'GLY', 'ILE', 'TYR', 'SER', 'ASN', 'LEU', 'GLN'}\n",
      "\n",
      "---> \u001b[32m216 total residues\u001b[39m were selected for network analysis.\n",
      "\n",
      "\u001b[34mSegments verification:\n",
      "\u001b[39m\n",
      "---> 2 \u001b[32mselected\u001b[39m segments:\n",
      "['OMP', 'ENZY']\n",
      "\n",
      "---> 9 \u001b[31mnot-selected\u001b[39m segments:\n",
      "['ION', 'WT1', 'WT2', 'WT3', 'WT4', 'WT5', 'WT6', 'WT7', 'WT8']\n",
      "\n"
     ]
    }
   ],
   "source": [
    "dnap.checkSystem()"
   ]
  },
  {
   "cell_type": "code",
   "execution_count": 8,
   "metadata": {
    "ExecuteTime": {
     "end_time": "2023-02-20T18:36:23.213658Z",
     "start_time": "2023-02-20T18:36:23.211963Z"
    }
   },
   "outputs": [],
   "source": [
    "# More checks?\n",
    "#\n",
    "# You can add more checks here if your system needs special attention."
   ]
  },
  {
   "cell_type": "markdown",
   "metadata": {},
   "source": [
    "### Automatically identify crystallographic waters and ions.\n",
    "\n",
    "In this section, we identify all residues which will be checked for connectivity with selected segments.\n",
    "\n",
    "- First, we define if all solvent molecules will be checked or if just ions, ligands, lipids, and other molecules will be checked.\n",
    "\n",
    "- Second, we sample a small set of frames from the trajectory to select residues likely to be structural. Then, we check the entire trajectory to see if the selected residues are closer than the cutoff distance for at least x% of the simulation (where x is the \"contact persistence\" fraction of the trajectory, which we defined above).\n",
    "\n",
    "- Third and finally, we load the trajectory of the relevant atoms to memory to speed up the analysis."
   ]
  },
  {
   "cell_type": "code",
   "execution_count": 9,
   "metadata": {
    "ExecuteTime": {
     "end_time": "2023-02-20T18:36:24.384701Z",
     "start_time": "2023-02-20T18:36:23.214625Z"
    }
   },
   "outputs": [
    {
     "name": "stdout",
     "output_type": "stream",
     "text": [
      "Checking 40 frames (striding 25)...\n"
     ]
    },
    {
     "data": {
      "application/vnd.jupyter.widget-view+json": {
       "model_id": "f9f7cc71cf704bf5b911218c39404e20",
       "version_major": 2,
       "version_minor": 0
      },
      "text/plain": [
       "Frames:   0%|          | 0/40 [00:00<?, ?it/s]"
      ]
     },
     "metadata": {},
     "output_type": "display_data"
    },
    {
     "name": "stdout",
     "output_type": "stream",
     "text": [
      "14 extra residues will be added to the system.\n",
      "The initial universe had 48341 atoms.\n",
      "The final universe has 1673 atoms.\n",
      "Loading universe to memory...\n"
     ]
    }
   ],
   "source": [
    "dnap.selectSystem(withSolvent=True)"
   ]
  },
  {
   "cell_type": "markdown",
   "metadata": {},
   "source": [
    "### Prepare network representation of the system\n",
    "\n",
    "Here we check that we know how to treat all types of residues in the final selection. This is because every residue will generate one or more nodes in the final network. Then we store the groups of atoms that define each node."
   ]
  },
  {
   "cell_type": "code",
   "execution_count": 10,
   "metadata": {
    "ExecuteTime": {
     "end_time": "2023-02-20T18:36:24.422937Z",
     "start_time": "2023-02-20T18:36:24.386153Z"
    }
   },
   "outputs": [
    {
     "data": {
      "application/vnd.jupyter.widget-view+json": {
       "model_id": "b07b1e13f8ca49a6a83302a293bbc9e2",
       "version_major": 2,
       "version_minor": 0
      },
      "text/plain": [
       "Nodes:   0%|          | 0/231 [00:00<?, ?it/s]"
      ]
     },
     "metadata": {},
     "output_type": "display_data"
    }
   ],
   "source": [
    "dnap.prepareNetwork()"
   ]
  },
  {
   "cell_type": "markdown",
   "metadata": {},
   "source": [
    "## Align the trajectory based on selected segments\n",
    "\n",
    "We align the trajectory to its first frame using heavy atoms (non-hydrogen) from the selected segments. In the process, we also transfer the trajectory to the computer memory so that future analysis and manipulations are completed faster."
   ]
  },
  {
   "cell_type": "code",
   "execution_count": 11,
   "metadata": {
    "ExecuteTime": {
     "end_time": "2023-02-20T18:36:24.800300Z",
     "start_time": "2023-02-20T18:36:24.423720Z"
    }
   },
   "outputs": [],
   "source": [
    "# If your system is too large, you can turn off the \"in memory\" option, at a cost for performance.\n",
    "dnap.alignTraj(inMemory=True)"
   ]
  },
  {
   "cell_type": "markdown",
   "metadata": {},
   "source": [
    "### Select residues that are closer than 4.5A for more than 75% of simulation\n",
    "\n",
    "<img align=\"right\" src=\"./toolkit/figures/nodeContactDistances.png\" alt=\"drawing\" width=\"400px\"/>\n",
    "\n",
    "The following cell calls efficient functions to analyze the system and create a contact matrix. We leverage both MDAnalysis parallel contact detection tools, as well as accelerated Numba and Cython functions. After creating the contact matrix, we remove any automatically selected nodes that have insufficient persistance and filter the contacts by (optionally) removing contacts between nodes in consecutive residues in a protein or nucleic chain.\n",
    "\n",
    "In the example to the right, the distances between atoms indicate that in that frame of the simulation, the node representing the water molecule would make contact with the phosphate node (representing the ribose ring and phosphate) but not with the nitrogen node (representing the nucleic base).\n",
    "\n",
    "Ultimately, an N-by-N matrix is created for all N nodes covering the selected region and automatically selected nodes (ions, solvent).\n"
   ]
  },
  {
   "cell_type": "markdown",
   "metadata": {},
   "source": [
    "**Attention** For every time you start this Jupyter Notebook, the first time you execute this function may take significantly longer (several seconds) to start. This is because we use *Cython* and *Numba* to compile functions \"on-demand\", and a new compilation may be necessary after the notebook is restarted."
   ]
  },
  {
   "cell_type": "code",
   "execution_count": 12,
   "metadata": {
    "ExecuteTime": {
     "end_time": "2023-02-20T18:36:39.237801Z",
     "start_time": "2023-02-20T18:36:24.801178Z"
    }
   },
   "outputs": [
    {
     "data": {
      "application/vnd.jupyter.widget-view+json": {
       "model_id": "f71e32fcf41f413cbaa6092023825f31",
       "version_major": 2,
       "version_minor": 0
      },
      "text/plain": [
       "Window:   0%|          | 0/4 [00:00<?, ?it/s]"
      ]
     },
     "metadata": {},
     "output_type": "display_data"
    },
    {
     "name": "stdout",
     "output_type": "stream",
     "text": [
      "We found 0 nodes with no contacts.\n",
      "We found 1136 contacting pairs out of 26565 total pairs of nodes.\n",
      "(That's 4.3%, by the way)\n"
     ]
    }
   ],
   "source": [
    "# To speed-up the contact matrix calculation, a larger stride can be selected, at a cost for precision.\n",
    "dnap.findContacts(stride=1)"
   ]
  },
  {
   "cell_type": "markdown",
   "metadata": {},
   "source": [
    "### Removing contacts between nodes in the same residue.\n",
    "\n",
    "The following function guarantees that there will be no \"self-contacts\" (contacts between a node and itself), and gives you the opportunity to remove contacts between nodes in consecutive residues (such as sequential amino acids in the same chain, removing back-bone interactions). \n",
    "\n",
    "The function also removes nodes that are never in contact with any other node in the system (such as the ends of flexible chains, or residues in flexible loops). This will automatically update the MDanalysis universe and related network information, such as number of nodes and atom-to-node mappings."
   ]
  },
  {
   "cell_type": "code",
   "execution_count": 13,
   "metadata": {
    "ExecuteTime": {
     "end_time": "2023-02-20T18:36:39.679712Z",
     "start_time": "2023-02-20T18:36:39.238760Z"
    },
    "scrolled": true
   },
   "outputs": [
    {
     "name": "stdout",
     "output_type": "stream",
     "text": [
      "Filtering contacts in each window.\n"
     ]
    },
    {
     "data": {
      "application/vnd.jupyter.widget-view+json": {
       "model_id": "c966264c0c07479f8ce47f18dc80bde4",
       "version_major": 2,
       "version_minor": 0
      },
      "text/plain": [
       "Window:   0%|          | 0/4 [00:00<?, ?it/s]"
      ]
     },
     "metadata": {},
     "output_type": "display_data"
    },
    {
     "data": {
      "application/vnd.jupyter.widget-view+json": {
       "model_id": "",
       "version_major": 2,
       "version_minor": 0
      },
      "text/plain": [
       "Node:   0%|          | 0/231 [00:00<?, ?it/s]"
      ]
     },
     "metadata": {},
     "output_type": "display_data"
    },
    {
     "data": {
      "application/vnd.jupyter.widget-view+json": {
       "model_id": "",
       "version_major": 2,
       "version_minor": 0
      },
      "text/plain": [
       "Node:   0%|          | 0/231 [00:00<?, ?it/s]"
      ]
     },
     "metadata": {},
     "output_type": "display_data"
    },
    {
     "data": {
      "application/vnd.jupyter.widget-view+json": {
       "model_id": "",
       "version_major": 2,
       "version_minor": 0
      },
      "text/plain": [
       "Node:   0%|          | 0/231 [00:00<?, ?it/s]"
      ]
     },
     "metadata": {},
     "output_type": "display_data"
    },
    {
     "data": {
      "application/vnd.jupyter.widget-view+json": {
       "model_id": "",
       "version_major": 2,
       "version_minor": 0
      },
      "text/plain": [
       "Node:   0%|          | 0/231 [00:00<?, ?it/s]"
      ]
     },
     "metadata": {},
     "output_type": "display_data"
    },
    {
     "name": "stdout",
     "output_type": "stream",
     "text": [
      "\n",
      "Removing isolated nodes...\n",
      "\n",
      "We found 0 nodes with no contacts.\n",
      "Running new contact matrix sanity check...\n",
      "We found 0 nodes with no contacts.\n",
      "We found 1135 contacting pairs out of 26565 total pairs of nodes.\n",
      "(That's 4.3%, by the way)\n",
      "Updating atom-to-node mapping...\n"
     ]
    },
    {
     "data": {
      "application/vnd.jupyter.widget-view+json": {
       "model_id": "ffb2ec2f52f148fdab1e6d81b6155aee",
       "version_major": 2,
       "version_minor": 0
      },
      "text/plain": [
       "Node:   0%|          | 0/231 [00:00<?, ?it/s]"
      ]
     },
     "metadata": {},
     "output_type": "display_data"
    }
   ],
   "source": [
    "dnap.filterContacts(notSameRes=True, notConsecutiveRes=False, removeIsolatedNodes=True)"
   ]
  },
  {
   "cell_type": "markdown",
   "metadata": {},
   "source": [
    "## Calculate Generalized Correlation with Python/Numba"
   ]
  },
  {
   "cell_type": "code",
   "execution_count": 14,
   "metadata": {
    "ExecuteTime": {
     "end_time": "2023-02-20T18:36:44.801606Z",
     "start_time": "2023-02-20T18:36:39.680760Z"
    },
    "scrolled": false
   },
   "outputs": [
    {
     "data": {
      "application/vnd.jupyter.widget-view+json": {
       "model_id": "1c4dfe5652c942bb8aad6faf7dd59a43",
       "version_major": 2,
       "version_minor": 0
      },
      "text/plain": [
       "Window:   0%|          | 0/4 [00:00<?, ?it/s]"
      ]
     },
     "metadata": {},
     "output_type": "display_data"
    },
    {
     "data": {
      "application/vnd.jupyter.widget-view+json": {
       "model_id": "",
       "version_major": 2,
       "version_minor": 0
      },
      "text/plain": [
       "Contact Pair:   0%|          | 0/1105 [00:00<?, ?it/s]"
      ]
     },
     "metadata": {},
     "output_type": "display_data"
    },
    {
     "data": {
      "application/vnd.jupyter.widget-view+json": {
       "model_id": "",
       "version_major": 2,
       "version_minor": 0
      },
      "text/plain": [
       "Contact Pair:   0%|          | 0/1121 [00:00<?, ?it/s]"
      ]
     },
     "metadata": {},
     "output_type": "display_data"
    },
    {
     "data": {
      "application/vnd.jupyter.widget-view+json": {
       "model_id": "",
       "version_major": 2,
       "version_minor": 0
      },
      "text/plain": [
       "Contact Pair:   0%|          | 0/1118 [00:00<?, ?it/s]"
      ]
     },
     "metadata": {},
     "output_type": "display_data"
    },
    {
     "data": {
      "application/vnd.jupyter.widget-view+json": {
       "model_id": "",
       "version_major": 2,
       "version_minor": 0
      },
      "text/plain": [
       "Contact Pair:   0%|          | 0/1108 [00:00<?, ?it/s]"
      ]
     },
     "metadata": {},
     "output_type": "display_data"
    }
   ],
   "source": [
    "# We can calculate generalized correlations in parallel using Python's multiprocessing package.\n",
    "dnap.calcCor(ncores=4)"
   ]
  },
  {
   "cell_type": "markdown",
   "metadata": {},
   "source": [
    "## Calculate cartesian distances between all nodes in the selected system.\n",
    "\n",
    "Here, we will calculate the **shortest** distance between atoms in all pairs of nodes. It is similar to the contact matrix calculation, but we check all distances and keep the shortest ones for our analysis."
   ]
  },
  {
   "cell_type": "code",
   "execution_count": 15,
   "metadata": {
    "ExecuteTime": {
     "end_time": "2023-02-20T18:36:49.123134Z",
     "start_time": "2023-02-20T18:36:44.802460Z"
    }
   },
   "outputs": [
    {
     "name": "stdout",
     "output_type": "stream",
     "text": [
      "Calculating cartesian distances...\n",
      "\n",
      "Sampling a total of 40 frames from 4 windows (10 per window)...\n"
     ]
    },
    {
     "data": {
      "application/vnd.jupyter.widget-view+json": {
       "model_id": "5585eeb1f4374136af76e3b6e3a76d11",
       "version_major": 2,
       "version_minor": 0
      },
      "text/plain": [
       "MEAN: Timesteps:   0%|          | 0/40 [00:00<?, ?it/s]"
      ]
     },
     "metadata": {},
     "output_type": "display_data"
    },
    {
     "data": {
      "application/vnd.jupyter.widget-view+json": {
       "model_id": "14c5d142583c484688d3058e3bcb0db2",
       "version_major": 2,
       "version_minor": 0
      },
      "text/plain": [
       "SEM/MIN/MAX: Timesteps:   0%|          | 0/40 [00:00<?, ?it/s]"
      ]
     },
     "metadata": {},
     "output_type": "display_data"
    }
   ],
   "source": [
    "# We can leverage MDanalysis parallelization options with backend=\"serial\" or backend=\"openmp\".\n",
    "# For very small systems, the serial can be faster!\n",
    "dnap.calcCartesian(backend=\"serial\")"
   ]
  },
  {
   "cell_type": "markdown",
   "metadata": {},
   "source": [
    "# Network Calculations\n",
    "Create a graph from our correlation matrix. Different properties are calculated:\n",
    "\n",
    "*Density* measures how connected the graph is compared to how connected it *could* be. It is the ratio between edges in the graph over all possible edges between all pairs of nodes.\n",
    "\n",
    "*Transitivity* measures the triadic closure, comparing present triangles to possible triangles. In a triangle, if A is connected to B, and B connected to C, then A is connected to C.\n",
    "\n",
    "*Degree* measures the number of connections a node has.\n",
    "\n",
    "(Reference)[1]\n",
    "\n",
    "[1]:https://programminghistorian.org/en/lessons/exploring-and-analyzing-network-data-with-python#advanced-networkx-community-detection-with-modularity"
   ]
  },
  {
   "cell_type": "code",
   "execution_count": 16,
   "metadata": {
    "ExecuteTime": {
     "end_time": "2023-02-20T18:36:49.156236Z",
     "start_time": "2023-02-20T18:36:49.124032Z"
    }
   },
   "outputs": [],
   "source": [
    "dnap.calcGraphInfo()"
   ]
  },
  {
   "cell_type": "code",
   "execution_count": 17,
   "metadata": {
    "ExecuteTime": {
     "end_time": "2023-02-20T18:36:49.160155Z",
     "start_time": "2023-02-20T18:36:49.157162Z"
    }
   },
   "outputs": [
    {
     "name": "stdout",
     "output_type": "stream",
     "text": [
      "Graph with 231 nodes and 905 edges\n"
     ]
    }
   ],
   "source": [
    "# Basic information of the network as interpreted as a graph.\n",
    "import networkx as nx\n",
    "num_nodes = len(dnap.nxGraphs[0].nodes)\n",
    "num_edges = len(dnap.nxGraphs[0].edges)\n",
    "\n",
    "print(f\"Graph with {num_nodes} nodes and {num_edges} edges\")"
   ]
  },
  {
   "cell_type": "code",
   "execution_count": 18,
   "metadata": {
    "ExecuteTime": {
     "end_time": "2023-02-20T18:36:49.176325Z",
     "start_time": "2023-02-20T18:36:49.161011Z"
    }
   },
   "outputs": [
    {
     "name": "stdout",
     "output_type": "stream",
     "text": [
      "----- Window 0 -----\n",
      "Density: 0.0341\n",
      "Transitivity: 0.4265\n",
      "\n",
      "----- Window 1 -----\n",
      "Density: 0.0344\n",
      "Transitivity: 0.4266\n",
      "\n",
      "----- Window 2 -----\n",
      "Density: 0.0342\n",
      "Transitivity: 0.4218\n",
      "\n",
      "----- Window 3 -----\n",
      "Density: 0.0335\n",
      "Transitivity: 0.4227\n",
      "\n"
     ]
    }
   ],
   "source": [
    "# Both density and transitivity are scaled from 0 to 1\n",
    "for win in range(dnap.numWinds):\n",
    "    print(\"----- Window {} -----\".format(win))\n",
    "    print(\"Density:\", round( nx.density(dnap.nxGraphs[win]), 4) )\n",
    "    print(\"Transitivity:\", round( nx.transitivity(dnap.nxGraphs[win]), 4) )\n",
    "    print()"
   ]
  },
  {
   "cell_type": "code",
   "execution_count": 19,
   "metadata": {
    "ExecuteTime": {
     "end_time": "2023-02-20T18:36:49.181493Z",
     "start_time": "2023-02-20T18:36:49.177072Z"
    }
   },
   "outputs": [
    {
     "name": "stdout",
     "output_type": "stream",
     "text": [
      "----- Window 0 -----\n",
      "Top 10 nodes by degree: [node --> degree : selection]\n",
      "  48 --> 15 : resname PHE and resid 59 and segid ENZY\n",
      "  36 --> 14 : resname LEU and resid 47 and segid ENZY\n",
      "  69 --> 14 : resname ASN and resid 80 and segid ENZY\n",
      "  77 --> 14 : resname PHE and resid 88 and segid ENZY\n",
      " 111 --> 13 : resname LEU and resid 122 and segid ENZY\n",
      "\n",
      "----- Window 1 -----\n",
      "Top 10 nodes by degree: [node --> degree : selection]\n",
      "  36 --> 14 : resname LEU and resid 47 and segid ENZY\n",
      "  48 --> 14 : resname PHE and resid 59 and segid ENZY\n",
      "  77 --> 14 : resname PHE and resid 88 and segid ENZY\n",
      "  95 --> 14 : resname VAL and resid 106 and segid ENZY\n",
      "  37 --> 13 : resname VAL and resid 48 and segid ENZY\n",
      "\n",
      "----- Window 2 -----\n",
      "Top 10 nodes by degree: [node --> degree : selection]\n",
      "  48 --> 16 : resname PHE and resid 59 and segid ENZY\n",
      "  36 --> 13 : resname LEU and resid 47 and segid ENZY\n",
      "  37 --> 13 : resname VAL and resid 48 and segid ENZY\n",
      "  77 --> 13 : resname PHE and resid 88 and segid ENZY\n",
      " 157 --> 13 : resname ARG and resid 168 and segid ENZY\n",
      "\n",
      "----- Window 3 -----\n",
      "Top 10 nodes by degree: [node --> degree : selection]\n",
      "  48 --> 14 : resname PHE and resid 59 and segid ENZY\n",
      "  69 --> 14 : resname ASN and resid 80 and segid ENZY\n",
      " 153 --> 14 : resname LEU and resid 164 and segid ENZY\n",
      "  20 --> 13 : resname THR and resid 31 and segid ENZY\n",
      "  36 --> 13 : resname LEU and resid 47 and segid ENZY\n",
      "\n"
     ]
    }
   ],
   "source": [
    "from operator import itemgetter\n",
    "from dynetan.toolkit import getSelFromNode\n",
    "\n",
    "# We can check the nodes that have the most connections in each window.\n",
    "for win in range(dnap.numWinds):\n",
    "    print(\"----- Window {} -----\".format(win))\n",
    "    \n",
    "    sorted_degree = sorted(dnap.getDegreeDict(win).items(), key=itemgetter(1), reverse=True)\n",
    "    \n",
    "    print(\"Top 10 nodes by degree: [node --> degree : selection]\")\n",
    "    for n,d in sorted_degree[:5]:\n",
    "        print(\"{0:>4} --> {1:>2} : {2}\".format(n, d, getSelFromNode(n, dnap.nodesAtmSel)))\n",
    "    \n",
    "    print()"
   ]
  },
  {
   "cell_type": "markdown",
   "metadata": {},
   "source": [
    "## Calculate optimal paths\n",
    "We choose the Floyd Warshall algorithm[1]. Optimal path calculation uses the **correlations as weights** to determine network distances and shortest distances.\n",
    "\n",
    "[1]:https://networkx.github.io/documentation/stable/reference/algorithms/generated/networkx.algorithms.shortest_paths.dense.floyd_warshall.html?highlight=warshall#networkx.algorithms.shortest_paths.dense.floyd_warshall"
   ]
  },
  {
   "cell_type": "code",
   "execution_count": 20,
   "metadata": {
    "ExecuteTime": {
     "end_time": "2023-02-20T18:36:50.786084Z",
     "start_time": "2023-02-20T18:36:49.182672Z"
    }
   },
   "outputs": [
    {
     "data": {
      "application/vnd.jupyter.widget-view+json": {
       "model_id": "09efe150d0f245dea9b503a7875e7a09",
       "version_major": 2,
       "version_minor": 0
      },
      "text/plain": [
       "Window:   0%|          | 0/4 [00:00<?, ?it/s]"
      ]
     },
     "metadata": {},
     "output_type": "display_data"
    }
   ],
   "source": [
    "dnap.calcOptPaths(ncores=4)"
   ]
  },
  {
   "cell_type": "markdown",
   "metadata": {},
   "source": [
    "## Calculate betweenness\n",
    "\n",
    "We calculate both betweenness centrality[1] for edges and eigenvector centrality[2] for nodes.\n",
    "\n",
    "[1]:https://networkx.github.io/documentation/stable/reference/algorithms/generated/networkx.algorithms.centrality.edge_betweenness_centrality.html?highlight=betweenness#networkx.algorithms.centrality.edge_betweenness_centrality\n",
    "[2]:https://networkx.github.io/documentation/networkx-1.10/reference/generated/networkx.algorithms.centrality.eigenvector_centrality.html"
   ]
  },
  {
   "cell_type": "code",
   "execution_count": 21,
   "metadata": {
    "ExecuteTime": {
     "end_time": "2023-02-20T18:36:50.939087Z",
     "start_time": "2023-02-20T18:36:50.787206Z"
    },
    "scrolled": true
   },
   "outputs": [
    {
     "data": {
      "application/vnd.jupyter.widget-view+json": {
       "model_id": "e83e41ad36044e5fac107a51ceb22950",
       "version_major": 2,
       "version_minor": 0
      },
      "text/plain": [
       "Window:   0%|          | 0/4 [00:00<?, ?it/s]"
      ]
     },
     "metadata": {},
     "output_type": "display_data"
    }
   ],
   "source": [
    "dnap.calcBetween(ncores=4)"
   ]
  },
  {
   "cell_type": "code",
   "execution_count": 22,
   "metadata": {
    "ExecuteTime": {
     "end_time": "2023-02-20T18:36:50.943176Z",
     "start_time": "2023-02-20T18:36:50.940078Z"
    }
   },
   "outputs": [
    {
     "name": "stdout",
     "output_type": "stream",
     "text": [
      "Nodes (61, 115) have betweenes 0.041 and correlation 0.072.\n",
      "Nodes (31, 216) have betweenes 0.034 and correlation 0.137.\n",
      "Nodes (30, 31) have betweenes 0.031 and correlation 0.656.\n",
      "Nodes (59, 215) have betweenes 0.031 and correlation 0.041.\n",
      "Nodes (31, 85) have betweenes 0.03 and correlation 0.07.\n"
     ]
    }
   ],
   "source": [
    "from itertools import islice\n",
    "\n",
    "# Pairs of nodes with highest Betweeness values compared to their correlation values in Window 0.\n",
    "for k,v in islice(dnap.btws[0].items(),5):\n",
    "    msg_str = \"Nodes {} have betweenes {} and correlation {}.\"\n",
    "    print(msg_str.format(k, round(v,3), round(dnap.corrMatAll[0, k[0], k[1]], 3) ) )"
   ]
  },
  {
   "cell_type": "markdown",
   "metadata": {},
   "source": [
    "Turn to node centrality instead of edge centrality:"
   ]
  },
  {
   "cell_type": "code",
   "execution_count": 23,
   "metadata": {
    "ExecuteTime": {
     "end_time": "2023-02-20T18:36:51.070885Z",
     "start_time": "2023-02-20T18:36:50.943907Z"
    }
   },
   "outputs": [],
   "source": [
    "dnap.calcEigenCentral()"
   ]
  },
  {
   "cell_type": "markdown",
   "metadata": {},
   "source": [
    "### Calculate communities\n",
    "\n"
   ]
  },
  {
   "cell_type": "markdown",
   "metadata": {},
   "source": [
    "Using **Louvain heuristices** is feasible. \n",
    "This method also maximizes the modularity of the network.\n",
    "\n",
    "http://iopscience.iop.org/article/10.1088/1742-5468/2008/10/P10008/meta"
   ]
  },
  {
   "cell_type": "code",
   "execution_count": 24,
   "metadata": {
    "ExecuteTime": {
     "end_time": "2023-02-20T18:36:51.138005Z",
     "start_time": "2023-02-20T18:36:51.071737Z"
    }
   },
   "outputs": [],
   "source": [
    "dnap.calcCommunities()"
   ]
  },
  {
   "cell_type": "code",
   "execution_count": 25,
   "metadata": {
    "ExecuteTime": {
     "end_time": "2023-02-20T18:36:51.141417Z",
     "start_time": "2023-02-20T18:36:51.138831Z"
    },
    "scrolled": false
   },
   "outputs": [
    {
     "name": "stdout",
     "output_type": "stream",
     "text": [
      "Modularity Class  3:  30 nodes.\n",
      "Modularity Class  2:  27 nodes.\n",
      "Modularity Class  4:  23 nodes.\n",
      "Modularity Class  5:  22 nodes.\n",
      "Modularity Class  1:  20 nodes.\n",
      "Modularity Class 11:  20 nodes.\n",
      "Modularity Class  9:  19 nodes.\n",
      "Modularity Class  7:  18 nodes.\n",
      "Modularity Class 10:  16 nodes.\n",
      "Modularity Class  0:  15 nodes.\n",
      "Modularity Class 12:   9 nodes.\n",
      "Modularity Class 13:   9 nodes.\n",
      "Modularity Class  6:   1 nodes.\n",
      "Modularity Class  8:   1 nodes.\n",
      "Modularity Class 14:   1 nodes.\n"
     ]
    }
   ],
   "source": [
    "# Sort communities based on number of nodes\n",
    "for comIndx in dnap.nodesComm[0][\"commOrderSize\"]:\n",
    "    print(\"Modularity Class {0:>2}: {1:>3} nodes.\".format(comIndx, len(dnap.nodesComm[0][\"commNodes\"][comIndx])))"
   ]
  },
  {
   "cell_type": "code",
   "execution_count": 26,
   "metadata": {
    "ExecuteTime": {
     "end_time": "2023-02-20T18:36:51.145374Z",
     "start_time": "2023-02-20T18:36:51.142306Z"
    },
    "scrolled": true
   },
   "outputs": [
    {
     "name": "stdout",
     "output_type": "stream",
     "text": [
      "Modularity Class 9 (19 nodes) Sorted by Eigenvector Centrality:\n",
      "Name:  149 | Degree: 10 | Eigenvector Centrality: 0.28339865700890216\n",
      "Name:  150 | Degree:  7 | Eigenvector Centrality: 0.2657041915897851\n",
      "Name:  147 | Degree: 11 | Eigenvector Centrality: 0.30480602404681556\n",
      "Name:  146 | Degree: 10 | Eigenvector Centrality: 0.2677439346113377\n",
      "Name:  148 | Degree:  7 | Eigenvector Centrality: 0.28682742744913714\n",
      "\n",
      "Modularity Class 10 (16 nodes) Sorted by Eigenvector Centrality:\n",
      "Name:  153 | Degree: 14 | Eigenvector Centrality: 0.16689946188013058\n",
      "Name:  156 | Degree: 12 | Eigenvector Centrality: 0.2072584478392879\n",
      "Name:  152 | Degree:  9 | Eigenvector Centrality: 0.16490506113332604\n",
      "Name:  155 | Degree:  9 | Eigenvector Centrality: 0.18836706805184342\n",
      "Name:  154 | Degree:  7 | Eigenvector Centrality: 0.16325548793315683\n",
      "\n",
      "Modularity Class 7 (18 nodes) Sorted by Eigenvector Centrality:\n",
      "Name:  115 | Degree:  9 | Eigenvector Centrality: 0.05499665207776102\n",
      "Name:  118 | Degree:  7 | Eigenvector Centrality: 0.03285699210264953\n",
      "Name:  116 | Degree:  5 | Eigenvector Centrality: 0.03256269895870927\n",
      "Name:  124 | Degree: 12 | Eigenvector Centrality: 0.0684007695177369\n",
      "Name:  120 | Degree: 10 | Eigenvector Centrality: 0.05300649431419027\n",
      "\n",
      "Modularity Class 5 (22 nodes) Sorted by Eigenvector Centrality:\n",
      "Name:  128 | Degree: 11 | Eigenvector Centrality: 0.08151300704621119\n",
      "Name:  131 | Degree: 12 | Eigenvector Centrality: 0.07309949952282302\n",
      "Name:  143 | Degree: 10 | Eigenvector Centrality: 0.04870065829036369\n",
      "Name:  132 | Degree: 10 | Eigenvector Centrality: 0.061740618602083366\n",
      "Name:  133 | Degree:  9 | Eigenvector Centrality: 0.06777447612021488\n",
      "\n",
      "Modularity Class 11 (20 nodes) Sorted by Eigenvector Centrality:\n",
      "Name:  184 | Degree:  7 | Eigenvector Centrality: 0.035288945014686345\n",
      "Name:  181 | Degree: 11 | Eigenvector Centrality: 0.05300410627579725\n",
      "Name:  182 | Degree: 12 | Eigenvector Centrality: 0.05518194439838346\n",
      "Name:  183 | Degree:  6 | Eigenvector Centrality: 0.04037748666742631\n",
      "Name:  185 | Degree:  9 | Eigenvector Centrality: 0.041399405315466396\n",
      "\n",
      "Modularity Class 13 (9 nodes) Sorted by Eigenvector Centrality:\n",
      "Name:  210 | Degree:  8 | Eigenvector Centrality: 0.04112983221963735\n",
      "Name:  211 | Degree: 11 | Eigenvector Centrality: 0.044228504501593956\n",
      "Name:  214 | Degree:  6 | Eigenvector Centrality: 0.0338267082779332\n",
      "Name:  212 | Degree:  6 | Eigenvector Centrality: 0.03659742528604717\n",
      "Name:  213 | Degree:  5 | Eigenvector Centrality: 0.03369455104535328\n",
      "\n",
      "Modularity Class 12 (9 nodes) Sorted by Eigenvector Centrality:\n",
      "Name:  197 | Degree:  9 | Eigenvector Centrality: 0.0623295937822134\n",
      "Name:  203 | Degree: 11 | Eigenvector Centrality: 0.06701058162493584\n",
      "Name:  202 | Degree:  7 | Eigenvector Centrality: 0.055065475602208896\n",
      "Name:  200 | Degree:  9 | Eigenvector Centrality: 0.05036211302633395\n",
      "Name:  204 | Degree:  9 | Eigenvector Centrality: 0.052658715921339715\n",
      "\n",
      "Modularity Class 4 (23 nodes) Sorted by Eigenvector Centrality:\n",
      "Name:   88 | Degree:  8 | Eigenvector Centrality: 0.011538155790796478\n",
      "Name:   89 | Degree:  6 | Eigenvector Centrality: 0.00918659712923682\n",
      "Name:   87 | Degree:  7 | Eigenvector Centrality: 0.007794960755664746\n",
      "Name:   86 | Degree:  8 | Eigenvector Centrality: 0.004441113134753181\n",
      "Name:   95 | Degree: 11 | Eigenvector Centrality: 0.007720579309176183\n",
      "\n",
      "Modularity Class 0 (15 nodes) Sorted by Eigenvector Centrality:\n",
      "Name:    4 | Degree: 10 | Eigenvector Centrality: 0.01436655890442943\n",
      "Name:    3 | Degree:  9 | Eigenvector Centrality: 0.012868702362086495\n",
      "Name:    5 | Degree: 12 | Eigenvector Centrality: 0.014228078476609937\n",
      "Name:    0 | Degree:  8 | Eigenvector Centrality: 0.011474705192236135\n",
      "Name:    6 | Degree: 12 | Eigenvector Centrality: 0.01724456193940417\n",
      "\n",
      "Modularity Class 3 (30 nodes) Sorted by Eigenvector Centrality:\n",
      "Name:   61 | Degree:  9 | Eigenvector Centrality: 0.0023200648178175877\n",
      "Name:   59 | Degree: 12 | Eigenvector Centrality: 0.0019978591620707213\n",
      "Name:   84 | Degree: 10 | Eigenvector Centrality: 0.0010329793813241847\n",
      "Name:   69 | Degree: 14 | Eigenvector Centrality: 0.002696355524746597\n",
      "Name:   62 | Degree:  7 | Eigenvector Centrality: 0.0010413337247579747\n",
      "\n",
      "Modularity Class 1 (20 nodes) Sorted by Eigenvector Centrality:\n",
      "Name:   23 | Degree: 12 | Eigenvector Centrality: 0.02090747491780253\n",
      "Name:   27 | Degree: 10 | Eigenvector Centrality: 0.014347416774053264\n",
      "Name:   19 | Degree: 10 | Eigenvector Centrality: 0.015657372266560752\n",
      "Name:   24 | Degree: 11 | Eigenvector Centrality: 0.01329433540973579\n",
      "Name:   18 | Degree:  8 | Eigenvector Centrality: 0.01475512298601657\n",
      "\n",
      "Modularity Class 2 (27 nodes) Sorted by Eigenvector Centrality:\n",
      "Name:   48 | Degree: 14 | Eigenvector Centrality: 0.0023486406651599353\n",
      "Name:   36 | Degree: 13 | Eigenvector Centrality: 0.002435487097210117\n",
      "Name:   44 | Degree:  9 | Eigenvector Centrality: 0.0016087920581752916\n",
      "Name:   45 | Degree:  9 | Eigenvector Centrality: 0.0014078553133206075\n",
      "Name:   53 | Degree:  8 | Eigenvector Centrality: 0.001985860622781878\n",
      "\n",
      "Modularity Class 8 (1 nodes) Sorted by Eigenvector Centrality:\n",
      "Name:  223 | Degree:  1 | Eigenvector Centrality: 9.922169610108804e-05\n",
      "\n",
      "Modularity Class 6 (1 nodes) Sorted by Eigenvector Centrality:\n",
      "Name:  222 | Degree:  0 | Eigenvector Centrality: 7.99234695893253e-18\n",
      "\n",
      "Modularity Class 14 (1 nodes) Sorted by Eigenvector Centrality:\n",
      "Name:  217 | Degree:  2 | Eigenvector Centrality: 7.298855838685131e-05\n",
      "\n"
     ]
    }
   ],
   "source": [
    "# Sort communities based on the node with highest eigenvector centrality\n",
    "for comIndx in dnap.nodesComm[0][\"commOrderEigenCentr\"]:\n",
    "    print(\"Modularity Class {0} ({1} nodes) Sorted by Eigenvector Centrality:\".format(\n",
    "                                                                    comIndx, \n",
    "                                                                len(dnap.nodesComm[0][\"commNodes\"][comIndx])))\n",
    "    for node in dnap.nodesComm[0][\"commNodes\"][comIndx][:5]:\n",
    "        print(\"Name: {0:>4} | Degree: {1:>2} | Eigenvector Centrality: {2}\".format(\n",
    "            node, dnap.nxGraphs[win].nodes[node]['degree'], dnap.nxGraphs[win].nodes[node]['eigenvector']))\n",
    "    print()"
   ]
  },
  {
   "cell_type": "markdown",
   "metadata": {},
   "source": [
    "# Process Interface Residues\n",
    "\n",
    "We now find all nodes that are close to both selections chosen by the user. That may include amino acids in the interface, as well as ligands, waters, and ions."
   ]
  },
  {
   "cell_type": "code",
   "execution_count": 27,
   "metadata": {
    "ExecuteTime": {
     "end_time": "2023-02-20T18:36:51.813213Z",
     "start_time": "2023-02-20T18:36:51.146072Z"
    }
   },
   "outputs": [
    {
     "data": {
      "application/vnd.jupyter.widget-view+json": {
       "model_id": "78ee9d72afff49d09785cfcc8abcce84",
       "version_major": 2,
       "version_minor": 0
      },
      "text/plain": [
       "Samples:   0%|          | 0/10 [00:00<?, ?it/s]"
      ]
     },
     "metadata": {},
     "output_type": "display_data"
    },
    {
     "name": "stdout",
     "output_type": "stream",
     "text": [
      "There are 55 nodes making contacts along the complex interface.\n"
     ]
    }
   ],
   "source": [
    "# This method returns the number of unique nodes in interface node pairs.\n",
    "num_nodes = dnap.interfaceAnalysis(selAstr=\"segid ENZY\", selBstr=\"segid OMP\")\n",
    "print(f\"There are {num_nodes} nodes making contacts along the complex interface.\")"
   ]
  },
  {
   "cell_type": "markdown",
   "metadata": {},
   "source": [
    "## Save The Data"
   ]
  },
  {
   "cell_type": "code",
   "execution_count": 28,
   "metadata": {
    "ExecuteTime": {
     "end_time": "2023-02-20T18:36:51.838328Z",
     "start_time": "2023-02-20T18:36:51.815497Z"
    }
   },
   "outputs": [],
   "source": [
    "pathToData = \"./TutorialResults/\"\n",
    "\n",
    "fileNameRoot = \"dnaData\"\n",
    "\n",
    "fullPathRoot = os.path.join(pathToData, fileNameRoot)\n",
    "\n",
    "dnap.saveData(fullPathRoot)"
   ]
  },
  {
   "cell_type": "markdown",
   "metadata": {},
   "source": [
    "## Save reduced trajectory for visualization"
   ]
  },
  {
   "cell_type": "code",
   "execution_count": 29,
   "metadata": {
    "ExecuteTime": {
     "end_time": "2023-02-20T18:36:51.842380Z",
     "start_time": "2023-02-20T18:36:51.839287Z"
    }
   },
   "outputs": [
    {
     "name": "stdout",
     "output_type": "stream",
     "text": [
      "We will save 1673 heavy atoms and 1001 frames.\n"
     ]
    }
   ],
   "source": [
    "# Now we will save a reduced DCD trajectory with the heavy atoms used for network analysis\n",
    "# A smaller trajectory can be created by choosing a \"stride\" that sub-samples the original trajectory.\n",
    "# This function will also produce a PDB file so that information on atoms and residues can be loaded to\n",
    "#    visualization software such as VMD.\n",
    "\n",
    "dcd_stride = 1\n",
    "num_atoms = dnap.workU.atoms.n_atoms\n",
    "num_frames = len(dnap.workU.trajectory[::dcd_stride])\n",
    "\n",
    "print(f\"We will save {num_atoms} heavy atoms and {num_frames} frames.\")"
   ]
  },
  {
   "cell_type": "markdown",
   "metadata": {},
   "source": [
    "MDAnalysis may print warnings regarding missing data fields, such as altLocs, icodes, occupancies, or tempfactor, which provide information commonly found in PDB files.\n",
    "The warnings are for your information, and in the context of this tutorial, they are expected and do not indicate a problem. We will silence such \"UserWarning\"s for clarity."
   ]
  },
  {
   "cell_type": "code",
   "execution_count": 30,
   "metadata": {
    "ExecuteTime": {
     "end_time": "2023-02-20T18:36:52.164719Z",
     "start_time": "2023-02-20T18:36:51.843454Z"
    },
    "scrolled": false
   },
   "outputs": [
    {
     "data": {
      "application/vnd.jupyter.widget-view+json": {
       "model_id": "e8923987ca8b4521978709ab5fe00e63",
       "version_major": 2,
       "version_minor": 0
      },
      "text/plain": [
       "Frames:   0%|          | 0/1001 [00:00<?, ?it/s]"
      ]
     },
     "metadata": {},
     "output_type": "display_data"
    }
   ],
   "source": [
    "# Suppress some MDAnalysis warnings about writing PDB files\n",
    "import warnings\n",
    "warnings.filterwarnings(\"ignore\", category=UserWarning)\n",
    "\n",
    "# Save PDB (for topology) and DCD (for coordinates) files with reduced trajectory.\n",
    "dnap.saveReducedTraj(fullPathRoot, stride = dcd_stride)"
   ]
  },
  {
   "cell_type": "markdown",
   "metadata": {},
   "source": [
    "# Analysis\n",
    "\n",
    "We have finished processing the trajectory and storing all related data. We can now move on to analysis\n",
    "of the network properties calculated here.\n",
    "\n",
    "**All analysis code was placed in a second tutorial notebook for clarity.**\n",
    "\n",
    "\n",
    "# ---- The End ----"
   ]
  }
 ],
 "metadata": {
  "kernelspec": {
   "display_name": "Python 3 (ipykernel)",
   "language": "python",
   "name": "python3"
  },
  "language_info": {
   "codemirror_mode": {
    "name": "ipython",
    "version": 3
   },
   "file_extension": ".py",
   "mimetype": "text/x-python",
   "name": "python",
   "nbconvert_exporter": "python",
   "pygments_lexer": "ipython3",
   "version": "3.9.12"
  }
 },
 "nbformat": 4,
 "nbformat_minor": 1
}
