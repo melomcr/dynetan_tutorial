{
 "cells": [
  {
   "cell_type": "markdown",
   "metadata": {},
   "source": [
    "# Generalized Network Analysis Tutorial - Step 1\n",
    "\n",
    "In this tutorial, we will use the Dynamic Network Analysis python package to explore the interactions between the OMP decarboxylase enzyme and its substrate, identifying clusters of amino acid residues that form domains, and active site residues that are important for binding and enzymatic activity.\n",
    "\n",
    "The tutorial is divided into two jupyter notebooks. In this notebook, **Step 1**, we will analyze the MD trajectory for the OMP decarboxylase system and generate the network data used for analysis. \n",
    "\n",
    "![](./toolkit/figures/OMP-System-Network.png)\n",
    "__Figure 1:__ The OMP decarboxylase enzyme and its substrate are shown on the left, where a cartoon representation was used to trace the backbone of the protein and a ball-and-stick representaion was used for the OMP. On the right, the network representation was overlayed on the system. The red tubes represent edges connecting network nodes with correlated motion, and the protein colors represent communities of nodes that show concerted movement. Red spheres represent structural water molecules automatically detected by the method."
   ]
  },
  {
   "cell_type": "markdown",
   "metadata": {},
   "source": [
    "In the accompanying notebook, **Step 2**, we will load the data generated in the Step 1, and create analysis plots and visualizations of the network. \n",
    "\n",
    "In **Step 3**, which is outside of the jupyter notebook environment, we will produce high-quality renderings of the network using the popular visualization software VMD.\n",
    "\n",
    "\n",
    "\n",
    "\n",
    "**Important 1:**\n",
    "\n",
    "If you are not familiar with Jupyter Notebooks, please take some time to watch a video tutorial, such as this:\n",
    "\n",
    "https://www.youtube.com/watch?v=HW29067qVWk\n",
    "\n",
    "If you are not familiar with VMD, you can find tutorials on how to use VMD here:\n",
    "\n",
    "https://www.ks.uiuc.edu/Training/Tutorials/\n",
    "\n",
    "\n",
    "\n",
    "**Important 2:**\n",
    "\n",
    "Here, we use a language that is common among computational structural biophysicists. For instance:\n",
    "\n",
    "The word **residue** is typically used to represent both an amino acid residue, or any other small molecule in the system, such as a ligand.\n",
    "\n",
    "The word **segment** and also **segID** is typically used to represent a polymer chain, such as a protein, or a group of molecules in a lipid bilayer. Protein complexes would therefore be formed by multiple segments."
   ]
  },
  {
   "cell_type": "markdown",
   "metadata": {},
   "source": [
    "# Download Trajectory Data\n",
    "The trajectory files used in this tutorial have approximately 500MB in size, and must be downloaded from the following link:\n",
    "\n",
    "[Link to trajectory data](https://compbiophysics.auburn.edu/DyNetAn_Tutorial/data/DynamicNetworkAnalysis_MDdata.tar.gz) \n",
    "\n",
    "### Extract into the tutorial folder\n",
    "After extracting the data, place the files in the *TutorialData* folder.\n"
   ]
  },
  {
   "cell_type": "code",
   "execution_count": null,
   "metadata": {
    "ExecuteTime": {
     "end_time": "2023-02-23T03:39:59.376201Z",
     "start_time": "2023-02-23T03:39:56.722096Z"
    }
   },
   "outputs": [],
   "source": [
    "# Load the python package\n",
    "import dynetan as dna\n",
    "\n",
    "# Create the object that processes MD trajectories.\n",
    "dnap = dna.proctraj.DNAproc()"
   ]
  },
  {
   "cell_type": "markdown",
   "metadata": {},
   "source": [
    "\n",
    "# System information:\n",
    "To get started, we need some basic information about the system:\n",
    "- Work directory where we will find relevant files.\n",
    "- Names of PSF and DCD files.\n",
    "- segid's for the regions that will be used for network analysis.\n",
    "- Name of the solvent residue(s) [default: TIP3]\n",
    "- Number of windows into which the trajectory will be split. [default: 1]\n",
    "- Name of atom(s) that will represent node(s) in each residue.\n",
    "- Names of atoms in node groups.\n",
    "\n",
    "**You can find a complete list of supported trajectory formats [here](https://www.mdanalysis.org/docs/documentation_pages/coordinates/init.html#supported-coordinate-formats):**\n"
   ]
  },
  {
   "cell_type": "code",
   "execution_count": null,
   "metadata": {
    "ExecuteTime": {
     "end_time": "2023-02-23T03:39:59.379957Z",
     "start_time": "2023-02-23T03:39:59.377220Z"
    },
    "scrolled": true
   },
   "outputs": [],
   "source": [
    "import os\n",
    "\n",
    "# Path where input files are located and results will be written.\n",
    "workDir = \"./TutorialData/\"\n",
    "\n",
    "# PSF file name\n",
    "psfFile = os.path.join(workDir, \"decarboxylase.0.psf\")\n",
    "\n",
    "# DCD file name\n",
    "dcdFiles = [os.path.join(workDir, \"decarboxylase.1.dcd\")]\n",
    "# dcdFiles = [os.path.join(workDir, \"decarboxylase.1.short.dcd\")]\n",
    "\n",
    "ligandSegID = \"OMP\"\n",
    "\n",
    "# Segment IDs for regions that will be studied.\n",
    "segIDs = [\"OMP\",\"ENZY\"]\n",
    "\n",
    "# Residue name for solvent molecule(s)\n",
    "h2oName = [\"TIP3\"]\n",
    "\n",
    "# Number of windows created from full simulation.\n",
    "numWinds = 4\n",
    "\n",
    "# Sampled frames per window\n",
    "numSampledFrames = 10\n",
    "\n",
    "#################################\n",
    "### Extra configuration - Default values are given below\n",
    "\n",
    "# Cutoff for contact map (In Angstroms)\n",
    "cutoffDist = 4.5\n",
    "\n",
    "# Minimum contact persistence (In ratio of total trajectory frames)\n",
    "contactPersistence = 0.75"
   ]
  },
  {
   "cell_type": "markdown",
   "metadata": {},
   "source": [
    "## Node Groups\n",
    "\n",
    "In Network Analysis, each residue is represented by one or more \"nodes\", serving as proxies for groups of atoms which form the original residue (Figure 2). This approach lowers computational costs and noise. \n",
    "\n",
    "![](./toolkit/figures/nodeAtomGroup.png)\n",
    "__Figure 2:__ (a) and (b) represent a chain of amino acids and a nucleotide, respectively. (c) and (d) represent the same molecules but highlight the difference between a node (alpha carbon in amino acids, and nitrogen and phosphate in nucleotides) and the group of atoms that the node represents.\n",
    "\n",
    "The Dynamical Network Analysis package will automatically create one node per protein residue using the alpha carbon as the representative atom for the node (see Figure 2 a and c above). This selection can be modified for one or all amino acids by manually defining node groups.\n",
    "\n",
    "For non-proteic residues such as nucleotides (see Figure 2 b and d above), the user must specify atom(s) which will represent at least one node per residue. For each node, we also need to know which heavy atoms from the residue compose each node group."
   ]
  },
  {
   "cell_type": "code",
   "execution_count": null,
   "metadata": {
    "ExecuteTime": {
     "end_time": "2023-02-23T03:39:59.383044Z",
     "start_time": "2023-02-23T03:39:59.380716Z"
    }
   },
   "outputs": [],
   "source": [
    "\n",
    "usrNodeGroups = {}\n",
    "\n",
    "usrNodeGroups[\"TIP3\"] = {}\n",
    "usrNodeGroups[\"TIP3\"][\"OH2\"] = set(\"OH2 H1 H2\".split())\n",
    "\n",
    "usrNodeGroups[\"OMP\"] = {}\n",
    "usrNodeGroups[\"OMP\"][\"N1\"] = set(\"N1 C2 O2 N3 C4 O4 C5 C6 C7 OA OB\".split())\n",
    "usrNodeGroups[\"OMP\"][\"P\"] = set(\"P OP1 OP2 OP3 O5' C5' C4' O4' C1' C3' C2' O2' O3'\".split())"
   ]
  },
  {
   "cell_type": "markdown",
   "metadata": {},
   "source": [
    "Now we load the information into the DNA object."
   ]
  },
  {
   "cell_type": "code",
   "execution_count": null,
   "metadata": {
    "ExecuteTime": {
     "end_time": "2023-02-23T03:39:59.386153Z",
     "start_time": "2023-02-23T03:39:59.384021Z"
    }
   },
   "outputs": [],
   "source": [
    "#################################\n",
    "### Load info to object\n",
    "\n",
    "dnap.setNumWinds(numWinds)\n",
    "dnap.setNumSampledFrames(numSampledFrames)\n",
    "dnap.setCutoffDist(cutoffDist)\n",
    "dnap.setContactPersistence(contactPersistence)\n",
    "dnap.setSolvNames(h2oName)\n",
    "dnap.setSegIDs(segIDs)\n",
    "\n",
    "dnap.setNodeGroups(usrNodeGroups)"
   ]
  },
  {
   "cell_type": "markdown",
   "metadata": {},
   "source": [
    "# Load the trajectory\n",
    "\n",
    "Now that all parameters are defined and loaded, we can start analyzing the simulation.\n",
    "\n",
    "Our Generalized Network Analysis leverages the MDAnalysis package to create a *universe* that contains all the trajectory and system information."
   ]
  },
  {
   "cell_type": "code",
   "execution_count": null,
   "metadata": {
    "ExecuteTime": {
     "end_time": "2023-02-23T03:39:59.712846Z",
     "start_time": "2023-02-23T03:39:59.386832Z"
    }
   },
   "outputs": [],
   "source": [
    "dnap.loadSystem(psfFile,dcdFiles)"
   ]
  },
  {
   "cell_type": "code",
   "execution_count": null,
   "metadata": {
    "ExecuteTime": {
     "end_time": "2023-02-23T03:39:59.719256Z",
     "start_time": "2023-02-23T03:39:59.713719Z"
    }
   },
   "outputs": [],
   "source": [
    "# We can access the trajectory data directly using the `getU` method.\n",
    "dnap.getU().trajectory"
   ]
  },
  {
   "cell_type": "markdown",
   "metadata": {},
   "source": [
    "### Checks segments and residue names\n",
    "\n",
    "It is important to know if there are residues in the structure that we are unaware of and need to be addressed. Otherwise, network analysis will not be able to create nodes in all selected residues."
   ]
  },
  {
   "cell_type": "code",
   "execution_count": null,
   "metadata": {
    "ExecuteTime": {
     "end_time": "2023-02-23T03:39:59.765261Z",
     "start_time": "2023-02-23T03:39:59.720353Z"
    },
    "scrolled": false
   },
   "outputs": [],
   "source": [
    "dnap.checkSystem()"
   ]
  },
  {
   "cell_type": "code",
   "execution_count": null,
   "metadata": {
    "ExecuteTime": {
     "end_time": "2023-02-23T03:39:59.768192Z",
     "start_time": "2023-02-23T03:39:59.766324Z"
    }
   },
   "outputs": [],
   "source": [
    "# More checks?\n",
    "#\n",
    "# You can add more checks here if your system needs special attention."
   ]
  },
  {
   "cell_type": "markdown",
   "metadata": {},
   "source": [
    "### Automatically identify crystallographic waters and ions.\n",
    "\n",
    "In this section, we identify all residues which will be checked for connectivity with selected segments.\n",
    "\n",
    "- First, we define if all solvent molecules will be checked or if just ions, ligands, lipids, and other molecules will be checked.\n",
    "\n",
    "- Second, we sample a small set of frames from the trajectory to select residues likely to be structural. Then, we check the entire trajectory to see if the selected residues are closer than the cutoff distance for at least x% of the simulation (where x is the \"contact persistence\" fraction of the trajectory, which we defined above).\n",
    "\n",
    "- Third and finally, we load the trajectory of the relevant atoms to memory to speed up the analysis."
   ]
  },
  {
   "cell_type": "code",
   "execution_count": null,
   "metadata": {
    "ExecuteTime": {
     "end_time": "2023-02-23T03:40:00.669583Z",
     "start_time": "2023-02-23T03:39:59.769231Z"
    }
   },
   "outputs": [],
   "source": [
    "dnap.selectSystem(withSolvent=True)"
   ]
  },
  {
   "cell_type": "markdown",
   "metadata": {},
   "source": [
    "### Prepare network representation of the system\n",
    "\n",
    "Here we check that we know how to treat all types of residues in the final selection. This is because every residue will generate one or more nodes in the final network. Then we store the groups of atoms that define each node."
   ]
  },
  {
   "cell_type": "code",
   "execution_count": null,
   "metadata": {
    "ExecuteTime": {
     "end_time": "2023-02-23T03:40:00.708590Z",
     "start_time": "2023-02-23T03:40:00.671075Z"
    }
   },
   "outputs": [],
   "source": [
    "dnap.prepareNetwork()"
   ]
  },
  {
   "cell_type": "markdown",
   "metadata": {},
   "source": [
    "## Align the trajectory based on selected segments\n",
    "\n",
    "We align the trajectory to its first frame using heavy atoms (non-hydrogen) from the selected segments. In the process, we also transfer the trajectory to the computer memory so that future analysis and manipulations are completed faster."
   ]
  },
  {
   "cell_type": "code",
   "execution_count": null,
   "metadata": {
    "ExecuteTime": {
     "end_time": "2023-02-23T03:40:01.070255Z",
     "start_time": "2023-02-23T03:40:00.709301Z"
    }
   },
   "outputs": [],
   "source": [
    "# If your system is too large, you can turn off the \"in memory\" option, at a cost for performance.\n",
    "dnap.alignTraj(inMemory=True)"
   ]
  },
  {
   "cell_type": "markdown",
   "metadata": {},
   "source": [
    "### Select residues that are closer than 4.5A for more than 75% of simulation\n",
    "\n",
    "<img align=\"right\" src=\"./toolkit/figures/nodeContactDistances.png\" alt=\"drawing\" width=\"400px\"/>\n",
    "\n",
    "The following cell calls efficient functions to analyze the system and create a contact matrix. We leverage both MDAnalysis parallel contact detection tools, as well as accelerated Numba and Cython functions. After creating the contact matrix, we remove any automatically selected nodes that have insufficient persistance and filter the contacts by (optionally) removing contacts between nodes in consecutive residues in a protein or nucleic chain.\n",
    "\n",
    "In the example to the right, the distances between atoms indicate that in that frame of the simulation, the node representing the water molecule would make contact with the phosphate node (representing the ribose ring and phosphate) but not with the nitrogen node (representing the nucleic base).\n",
    "\n",
    "Ultimately, an N-by-N matrix is created for all N nodes covering the selected region and automatically selected nodes (ions, solvent).\n"
   ]
  },
  {
   "cell_type": "markdown",
   "metadata": {},
   "source": [
    "**Attention** For every time you start this Jupyter Notebook, the first time you execute this function may take significantly longer (several seconds) to start. This is because we use *Cython* and *Numba* to compile functions \"on-demand\", and a new compilation may be necessary after the notebook is restarted."
   ]
  },
  {
   "cell_type": "code",
   "execution_count": null,
   "metadata": {
    "ExecuteTime": {
     "end_time": "2023-02-23T03:40:19.157400Z",
     "start_time": "2023-02-23T03:40:01.071106Z"
    }
   },
   "outputs": [],
   "source": [
    "# To speed-up the contact matrix calculation, a larger stride can be selected, at a cost for precision.\n",
    "dnap.findContacts(stride=1)"
   ]
  },
  {
   "cell_type": "markdown",
   "metadata": {},
   "source": [
    "### Removing contacts between nodes in the same residue.\n",
    "\n",
    "The following function guarantees that there will be no \"self-contacts\" (contacts between a node and itself), and gives you the opportunity to remove contacts between nodes in consecutive residues (such as sequential amino acids in the same chain, removing back-bone interactions). \n",
    "\n",
    "The function also removes nodes that are never in contact with any other node in the system (such as the ends of flexible chains, or residues in flexible loops). This will automatically update the MDanalysis universe and related network information, such as number of nodes and atom-to-node mappings."
   ]
  },
  {
   "cell_type": "code",
   "execution_count": null,
   "metadata": {
    "ExecuteTime": {
     "end_time": "2023-02-23T03:40:19.590331Z",
     "start_time": "2023-02-23T03:40:19.158183Z"
    },
    "scrolled": true
   },
   "outputs": [],
   "source": [
    "dnap.filterContacts(notSameRes=True, notConsecutiveRes=False, removeIsolatedNodes=True)"
   ]
  },
  {
   "cell_type": "markdown",
   "metadata": {},
   "source": [
    "## Calculate Generalized Correlation with Python/Numba"
   ]
  },
  {
   "cell_type": "code",
   "execution_count": null,
   "metadata": {
    "ExecuteTime": {
     "end_time": "2023-02-23T03:40:24.687400Z",
     "start_time": "2023-02-23T03:40:19.591732Z"
    },
    "scrolled": false
   },
   "outputs": [],
   "source": [
    "# We can calculate generalized correlations in parallel using Python's multiprocessing package.\n",
    "dnap.calcCor(ncores=4)"
   ]
  },
  {
   "cell_type": "markdown",
   "metadata": {},
   "source": [
    "## Calculate cartesian distances between all nodes in the selected system.\n",
    "\n",
    "Here, we will calculate the **shortest** distance between atoms in all pairs of nodes. It is similar to the contact matrix calculation, but we check all distances and keep the shortest ones for our analysis."
   ]
  },
  {
   "cell_type": "code",
   "execution_count": null,
   "metadata": {
    "ExecuteTime": {
     "end_time": "2023-02-23T03:40:29.024668Z",
     "start_time": "2023-02-23T03:40:24.688946Z"
    }
   },
   "outputs": [],
   "source": [
    "# We can leverage MDanalysis parallelization options with backend=\"serial\" or backend=\"openmp\".\n",
    "# For very small systems, the serial can be faster!\n",
    "dnap.calcCartesian(backend=\"serial\")"
   ]
  },
  {
   "cell_type": "markdown",
   "metadata": {},
   "source": [
    "# Network Calculations\n",
    "Create a graph from our correlation matrix. Different properties are calculated:\n",
    "\n",
    "*Density* measures how connected the graph is compared to how connected it *could* be. It is the ratio between edges in the graph over all possible edges between all pairs of nodes.\n",
    "\n",
    "*Transitivity* measures the triadic closure, comparing present triangles to possible triangles. In a triangle, if A is connected to B, and B connected to C, then A is connected to C.\n",
    "\n",
    "*Degree* measures the number of connections a node has.\n",
    "\n",
    "(Reference)[1]\n",
    "\n",
    "[1]:https://programminghistorian.org/en/lessons/exploring-and-analyzing-network-data-with-python#advanced-networkx-community-detection-with-modularity"
   ]
  },
  {
   "cell_type": "code",
   "execution_count": null,
   "metadata": {
    "ExecuteTime": {
     "end_time": "2023-02-23T03:40:29.057448Z",
     "start_time": "2023-02-23T03:40:29.025491Z"
    }
   },
   "outputs": [],
   "source": [
    "dnap.calcGraphInfo()"
   ]
  },
  {
   "cell_type": "code",
   "execution_count": null,
   "metadata": {
    "ExecuteTime": {
     "end_time": "2023-02-23T03:40:29.060765Z",
     "start_time": "2023-02-23T03:40:29.058321Z"
    }
   },
   "outputs": [],
   "source": [
    "# Basic information of the network as interpreted as a graph.\n",
    "import networkx as nx\n",
    "num_nodes = len(dnap.nxGraphs[0].nodes)\n",
    "num_edges = len(dnap.nxGraphs[0].edges)\n",
    "\n",
    "print(f\"Graph with {num_nodes} nodes and {num_edges} edges\")"
   ]
  },
  {
   "cell_type": "code",
   "execution_count": null,
   "metadata": {
    "ExecuteTime": {
     "end_time": "2023-02-23T03:40:29.076935Z",
     "start_time": "2023-02-23T03:40:29.061546Z"
    }
   },
   "outputs": [],
   "source": [
    "# Both density and transitivity are scaled from 0 to 1\n",
    "for win in range(dnap.numWinds):\n",
    "    print(\"----- Window {} -----\".format(win))\n",
    "    print(\"Density:\", round( nx.density(dnap.nxGraphs[win]), 4) )\n",
    "    print(\"Transitivity:\", round( nx.transitivity(dnap.nxGraphs[win]), 4) )\n",
    "    print()"
   ]
  },
  {
   "cell_type": "code",
   "execution_count": null,
   "metadata": {
    "ExecuteTime": {
     "end_time": "2023-02-23T03:40:29.081478Z",
     "start_time": "2023-02-23T03:40:29.077677Z"
    }
   },
   "outputs": [],
   "source": [
    "from operator import itemgetter\n",
    "from dynetan.toolkit import getSelFromNode\n",
    "\n",
    "# We can check the nodes that have the most connections in each window.\n",
    "for win in range(dnap.numWinds):\n",
    "    print(\"----- Window {} -----\".format(win))\n",
    "    \n",
    "    sorted_degree = sorted(dnap.getDegreeDict(win).items(), key=itemgetter(1), reverse=True)\n",
    "    \n",
    "    print(\"Top 10 nodes by degree: [node --> degree : selection]\")\n",
    "    for n,d in sorted_degree[:5]:\n",
    "        print(\"{0:>4} --> {1:>2} : {2}\".format(n, d, getSelFromNode(n, dnap.nodesAtmSel)))\n",
    "    \n",
    "    print()"
   ]
  },
  {
   "cell_type": "markdown",
   "metadata": {},
   "source": [
    "## Calculate optimal paths\n",
    "We choose the Floyd Warshall algorithm[1]. Optimal path calculation uses the **correlations as weights** to determine network distances and shortest distances.\n",
    "\n",
    "[1]:https://networkx.github.io/documentation/stable/reference/algorithms/generated/networkx.algorithms.shortest_paths.dense.floyd_warshall.html?highlight=warshall#networkx.algorithms.shortest_paths.dense.floyd_warshall"
   ]
  },
  {
   "cell_type": "code",
   "execution_count": null,
   "metadata": {
    "ExecuteTime": {
     "end_time": "2023-02-23T03:40:30.692500Z",
     "start_time": "2023-02-23T03:40:29.082135Z"
    }
   },
   "outputs": [],
   "source": [
    "dnap.calcOptPaths(ncores=4)"
   ]
  },
  {
   "cell_type": "markdown",
   "metadata": {},
   "source": [
    "## Calculate betweenness\n",
    "\n",
    "We calculate both betweenness centrality[1] for edges and eigenvector centrality[2] for nodes.\n",
    "\n",
    "[1]:https://networkx.github.io/documentation/stable/reference/algorithms/generated/networkx.algorithms.centrality.edge_betweenness_centrality.html?highlight=betweenness#networkx.algorithms.centrality.edge_betweenness_centrality\n",
    "[2]:https://networkx.github.io/documentation/networkx-1.10/reference/generated/networkx.algorithms.centrality.eigenvector_centrality.html"
   ]
  },
  {
   "cell_type": "code",
   "execution_count": null,
   "metadata": {
    "ExecuteTime": {
     "end_time": "2023-02-23T03:40:30.853225Z",
     "start_time": "2023-02-23T03:40:30.693524Z"
    },
    "scrolled": true
   },
   "outputs": [],
   "source": [
    "dnap.calcBetween(ncores=4)"
   ]
  },
  {
   "cell_type": "code",
   "execution_count": null,
   "metadata": {
    "ExecuteTime": {
     "end_time": "2023-02-23T03:40:30.857066Z",
     "start_time": "2023-02-23T03:40:30.854234Z"
    }
   },
   "outputs": [],
   "source": [
    "from itertools import islice\n",
    "\n",
    "# Pairs of nodes with highest Betweeness values compared to their correlation values in Window 0.\n",
    "for k,v in islice(dnap.btws[0].items(),5):\n",
    "    msg_str = \"Nodes {} have betweenes {} and correlation {}.\"\n",
    "    print(msg_str.format(k, round(v,3), round(dnap.corrMatAll[0, k[0], k[1]], 3) ) )"
   ]
  },
  {
   "cell_type": "markdown",
   "metadata": {},
   "source": [
    "Turn to node centrality instead of edge centrality:"
   ]
  },
  {
   "cell_type": "code",
   "execution_count": null,
   "metadata": {
    "ExecuteTime": {
     "end_time": "2023-02-23T03:40:30.982843Z",
     "start_time": "2023-02-23T03:40:30.857897Z"
    }
   },
   "outputs": [],
   "source": [
    "dnap.calcEigenCentral()"
   ]
  },
  {
   "cell_type": "markdown",
   "metadata": {},
   "source": [
    "### Calculate communities\n",
    "\n"
   ]
  },
  {
   "cell_type": "markdown",
   "metadata": {},
   "source": [
    "Using **Louvain heuristices** is feasible. \n",
    "This method also maximizes the modularity of the network.\n",
    "\n",
    "http://iopscience.iop.org/article/10.1088/1742-5468/2008/10/P10008/meta"
   ]
  },
  {
   "cell_type": "code",
   "execution_count": null,
   "metadata": {
    "ExecuteTime": {
     "end_time": "2023-02-23T03:40:31.048122Z",
     "start_time": "2023-02-23T03:40:30.983767Z"
    }
   },
   "outputs": [],
   "source": [
    "dnap.calcCommunities()"
   ]
  },
  {
   "cell_type": "code",
   "execution_count": null,
   "metadata": {
    "ExecuteTime": {
     "end_time": "2023-02-23T03:40:31.051393Z",
     "start_time": "2023-02-23T03:40:31.048932Z"
    },
    "scrolled": false
   },
   "outputs": [],
   "source": [
    "# Sort communities based on number of nodes\n",
    "for comIndx in dnap.nodesComm[0][\"commOrderSize\"]:\n",
    "    print(\"Modularity Class {0:>2}: {1:>3} nodes.\".format(comIndx, len(dnap.nodesComm[0][\"commNodes\"][comIndx])))"
   ]
  },
  {
   "cell_type": "code",
   "execution_count": null,
   "metadata": {
    "ExecuteTime": {
     "end_time": "2023-02-23T03:40:31.055503Z",
     "start_time": "2023-02-23T03:40:31.052243Z"
    },
    "scrolled": true
   },
   "outputs": [],
   "source": [
    "# Sort communities based on the node with highest eigenvector centrality\n",
    "for comIndx in dnap.nodesComm[0][\"commOrderEigenCentr\"]:\n",
    "    print(\"Modularity Class {0} ({1} nodes) Sorted by Eigenvector Centrality:\".format(\n",
    "                                                                    comIndx, \n",
    "                                                                len(dnap.nodesComm[0][\"commNodes\"][comIndx])))\n",
    "    for node in dnap.nodesComm[0][\"commNodes\"][comIndx][:5]:\n",
    "        print(\"Name: {0:>4} | Degree: {1:>2} | Eigenvector Centrality: {2}\".format(\n",
    "            node, dnap.nxGraphs[win].nodes[node]['degree'], dnap.nxGraphs[win].nodes[node]['eigenvector']))\n",
    "    print()"
   ]
  },
  {
   "cell_type": "markdown",
   "metadata": {},
   "source": [
    "# Process Interface Residues\n",
    "\n",
    "We now find all nodes that are close to both selections chosen by the user. That may include amino acids in the interface, as well as ligands, waters, and ions."
   ]
  },
  {
   "cell_type": "code",
   "execution_count": null,
   "metadata": {
    "ExecuteTime": {
     "end_time": "2023-02-23T03:40:31.614014Z",
     "start_time": "2023-02-23T03:40:31.056326Z"
    }
   },
   "outputs": [],
   "source": [
    "# This method returns the number of unique nodes in interface node pairs.\n",
    "num_nodes = dnap.interfaceAnalysis(selAstr=\"segid ENZY\", selBstr=\"segid OMP\")\n",
    "print(f\"There are {num_nodes} nodes making contacts along the complex interface.\")"
   ]
  },
  {
   "cell_type": "markdown",
   "metadata": {},
   "source": [
    "## Save The Data"
   ]
  },
  {
   "cell_type": "code",
   "execution_count": null,
   "metadata": {
    "ExecuteTime": {
     "end_time": "2023-02-23T03:40:31.640129Z",
     "start_time": "2023-02-23T03:40:31.615839Z"
    }
   },
   "outputs": [],
   "source": [
    "pathToData = \"./TutorialResults/\"\n",
    "\n",
    "fileNameRoot = \"dnaData\"\n",
    "\n",
    "fullPathRoot = os.path.join(pathToData, fileNameRoot)\n",
    "\n",
    "dnap.saveData(fullPathRoot)"
   ]
  },
  {
   "cell_type": "markdown",
   "metadata": {},
   "source": [
    "## Save reduced trajectory for visualization"
   ]
  },
  {
   "cell_type": "code",
   "execution_count": null,
   "metadata": {
    "ExecuteTime": {
     "end_time": "2023-02-23T03:40:31.643732Z",
     "start_time": "2023-02-23T03:40:31.641214Z"
    }
   },
   "outputs": [],
   "source": [
    "# Now we will save a reduced DCD trajectory with the heavy atoms used for network analysis\n",
    "# A smaller trajectory can be created by choosing a \"stride\" that sub-samples the original trajectory.\n",
    "# This function will also produce a PDB file so that information on atoms and residues can be loaded to\n",
    "#    visualization software such as VMD.\n",
    "\n",
    "dcd_stride = 1\n",
    "num_atoms = dnap.workU.atoms.n_atoms\n",
    "num_frames = len(dnap.workU.trajectory[::dcd_stride])\n",
    "\n",
    "print(f\"We will save {num_atoms} heavy atoms and {num_frames} frames.\")"
   ]
  },
  {
   "cell_type": "markdown",
   "metadata": {},
   "source": [
    "MDAnalysis may print warnings regarding missing data fields, such as altLocs, icodes, occupancies, or tempfactor, which provide information commonly found in PDB files.\n",
    "The warnings are for your information, and in the context of this tutorial, they are expected and do not indicate a problem. We will silence such \"UserWarning\"s for clarity."
   ]
  },
  {
   "cell_type": "code",
   "execution_count": null,
   "metadata": {
    "ExecuteTime": {
     "end_time": "2023-02-23T03:40:31.948277Z",
     "start_time": "2023-02-23T03:40:31.644563Z"
    },
    "scrolled": false
   },
   "outputs": [],
   "source": [
    "# Suppress some MDAnalysis warnings about writing PDB files\n",
    "import warnings\n",
    "warnings.filterwarnings(\"ignore\", category=UserWarning)\n",
    "\n",
    "# Save PDB (for topology) and DCD (for coordinates) files with reduced trajectory.\n",
    "dnap.saveReducedTraj(fullPathRoot, stride = dcd_stride)"
   ]
  },
  {
   "cell_type": "markdown",
   "metadata": {},
   "source": [
    "# Analysis\n",
    "\n",
    "We have finished processing the trajectory and storing all related data. We can now move on to analysis\n",
    "of the network properties calculated here.\n",
    "\n",
    "**All analysis code was placed in a second tutorial notebook for clarity.**\n",
    "\n",
    "\n",
    "# ---- The End ----"
   ]
  }
 ],
 "metadata": {
  "kernelspec": {
   "display_name": "Python 3 (ipykernel)",
   "language": "python",
   "name": "python3"
  },
  "language_info": {
   "codemirror_mode": {
    "name": "ipython",
    "version": 3
   },
   "file_extension": ".py",
   "mimetype": "text/x-python",
   "name": "python",
   "nbconvert_exporter": "python",
   "pygments_lexer": "ipython3",
   "version": "3.9.12"
  }
 },
 "nbformat": 4,
 "nbformat_minor": 1
}
