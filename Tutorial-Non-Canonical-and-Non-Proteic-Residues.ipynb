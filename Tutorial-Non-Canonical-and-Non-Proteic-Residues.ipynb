{
 "cells": [
  {
   "cell_type": "markdown",
   "id": "42f59156",
   "metadata": {},
   "source": [
    "# Generalized Network Analysis Tutorial - Non-Canonical and Non-Proteic Residues\n",
    "\n",
    "The Network Analysis Tutorial is part of the work titled **Generalized correlation-based dynamical network analysis: a new high-performance approach for identifying allosteric communications in molecular dynamics trajectories**, by Marcelo C. R. Melo, Rafael C. Bernardi.\n",
    "\n",
    "In this tutorial, we will show how to prepare systems with non-canonical amino acid residues and non-proteic residues such as small ligands, sugars, and lipids.\n",
    "\n",
    "The Dynamic Network Analysis package requires a description of **node groups**, as explained in the main tutorial. These are at times trivial to obtain, such as when a non-canonical amino acid is represented by its alpha-carbon. However, for large lipid molecules in a cell membrane, or long and flexible ligands, one may wish to describe the residue using multiple node groups.\n",
    "\n",
    "The tutorial will explore specialized functions and vizualisation tools that will help you prepare your system for Dynamic Network Analysis.\n",
    "\n",
    "We will once more analyze the MD trajectory for the OMP decarboxylase system, and the move on to a more complicated example using a large lipid molecule.\n"
   ]
  },
  {
   "cell_type": "code",
   "execution_count": null,
   "id": "540c2e64",
   "metadata": {},
   "outputs": [],
   "source": [
    "# Load the python package\n",
    "import os\n",
    "import dynetan as dna\n",
    "from dynetan.toolkit import formatNodeGroups, showNodeGrps\n",
    "\n",
    "# For visualization\n",
    "import nglview    as nv\n",
    "\n",
    "# Create the object that processes MD trajectories.\n",
    "dnap = dna.proctraj.DNAproc()"
   ]
  },
  {
   "cell_type": "code",
   "execution_count": null,
   "id": "688ee7c0",
   "metadata": {},
   "outputs": [],
   "source": [
    "workDir = \"./TutorialData/\"\n",
    "\n",
    "# PSF file name\n",
    "psfFile = os.path.join(workDir, \"decarboxylase.0.psf\")\n",
    "\n",
    "# DCD file name\n",
    "dcdFiles = [os.path.join(workDir, \"decarboxylase.1.short.dcd\")]"
   ]
  },
  {
   "cell_type": "code",
   "execution_count": null,
   "id": "b032461a",
   "metadata": {},
   "outputs": [],
   "source": [
    "dnap.loadSystem(psfFile,dcdFiles)"
   ]
  },
  {
   "cell_type": "markdown",
   "id": "b4615b4a",
   "metadata": {},
   "source": [
    "Here we use MDAnalysis selection language to select a single valine residue. Note that we usually remove all hydrogen atoms from a system bedore Dynamical Network Analysis. This is because node movement already captures most hydrogen-mediated interactions (like H-bonds) and keeping them would drastically increase the computational cost for contact detection."
   ]
  },
  {
   "cell_type": "code",
   "execution_count": null,
   "id": "a9fce9e5",
   "metadata": {},
   "outputs": [],
   "source": [
    "# atmGrp = dnap.workU.select_atoms(\"resid 11 and resname VAL\")\n",
    "atmGrp = dnap.workU.select_atoms(\"resid 11 and resname VAL and (not (name H* or name [123]H*))\")\n",
    "atmGrp"
   ]
  },
  {
   "cell_type": "markdown",
   "id": "9a346349",
   "metadata": {},
   "source": [
    "These are all the names for atoms in our selection:"
   ]
  },
  {
   "cell_type": "code",
   "execution_count": null,
   "id": "b5e377c2",
   "metadata": {},
   "outputs": [],
   "source": [
    "print(list(atmGrp.names))"
   ]
  },
  {
   "cell_type": "markdown",
   "id": "68abf1b2",
   "metadata": {},
   "source": [
    "### DyNetAn syntax\n",
    "\n",
    "Now that we know all atoms in our residue, we can decide how to split it into node groups. For very simple residues, like amino acids, we usually take the alpha-carbon as the node, and assign all backbone and side chain atoms to a single node group.\n",
    "\n",
    "To facilitate this process, we can use the function `formatNodeGroups` from `dynetan.toolkit` :"
   ]
  },
  {
   "cell_type": "code",
   "execution_count": null,
   "id": "4834ee99",
   "metadata": {},
   "outputs": [],
   "source": [
    "formatNodeGroups(atmGrp, [\"CA\"])"
   ]
  },
  {
   "cell_type": "markdown",
   "id": "8544c135",
   "metadata": {},
   "source": [
    "As indicated in the function output, we can copy and paste the code to indicate how we wish to analize our system."
   ]
  },
  {
   "cell_type": "code",
   "execution_count": null,
   "id": "fa459b04",
   "metadata": {},
   "outputs": [],
   "source": [
    "usrNodeGroups = {}\n",
    "\n",
    "usrNodeGroups[\"VAL\"] = {}\n",
    "usrNodeGroups[\"VAL\"][\"CA\"] = {'O', 'CB', 'CA', 'CG1', 'C', 'CG2', 'N'}\n",
    "\n",
    "usrNodeGroups"
   ]
  },
  {
   "cell_type": "markdown",
   "id": "4bb8d11d",
   "metadata": {},
   "source": [
    "# Visual check\n",
    "\n",
    "Here we use [NGLviewer](https://nglviewer.org/ngl/api/manual/index.html) to create an interactive visualization of our residue, and to check how nodes and node groups are assigned.\n",
    "\n",
    "1. First, let's create a full visualization of the residue labeling all nodes and groups. This will highlight any atom(s) left out of our selections.\n",
    "    - Nodes will show up in <font color='green'>**GREEN**</font>, node group atoms will be **BLACK**, and unselected atoms in <font color='red'>**RED**</font>."
   ]
  },
  {
   "cell_type": "code",
   "execution_count": null,
   "id": "fa87498e",
   "metadata": {},
   "outputs": [],
   "source": [
    "# http://nglviewer.org/ngl/api/typedef/index.html#static-typedef-LabelRepresentationParameters\n",
    "\n",
    "w = nv.show_mdanalysis(atmGrp)\n",
    "\n",
    "w._remote_call(\"setSize\", target=\"Widget\", args=[\"800px\", \"600px\"])\n",
    "w.parameters = dict(theme='light')\n",
    "\n",
    "w.clear_representations()\n",
    "w.add_representation(repr_type=\"ball+stick\", selection=\"all\")\n",
    "\n",
    "showNodeGrps(w, atmGrp, usrNodeGroups)\n",
    "\n",
    "w"
   ]
  },
  {
   "cell_type": "markdown",
   "id": "6d24c7dc",
   "metadata": {},
   "source": [
    "### Divide a residue into multiple groups:\n",
    "\n",
    "2. Now, let's pretend we want to break up all valine residues into two node groups, one centered at the alpha-carbon and another at the beta-carbon, like so:"
   ]
  },
  {
   "cell_type": "code",
   "execution_count": null,
   "id": "51e0bcf7",
   "metadata": {},
   "outputs": [],
   "source": [
    "formatNodeGroups(atmGrp, \n",
    "                           [\"CA\",\"CB\"], \n",
    "                           [\n",
    "                               ['C', 'O', 'N', 'CA'],\n",
    "                               ['CB', 'CG1', 'CG2']\n",
    "                           ]\n",
    "                          )"
   ]
  },
  {
   "cell_type": "code",
   "execution_count": null,
   "id": "e72aefd6",
   "metadata": {},
   "outputs": [],
   "source": [
    "usrNodeGroups = {}\n",
    "\n",
    "usrNodeGroups[\"VAL\"] = {}\n",
    "usrNodeGroups[\"VAL\"][\"CA\"] = {'CA', 'O', 'C', 'N'}\n",
    "usrNodeGroups[\"VAL\"][\"CB\"] = {'CG1', 'CG2', 'CB'}\n",
    "\n",
    "usrNodeGroups"
   ]
  },
  {
   "cell_type": "code",
   "execution_count": null,
   "id": "e2f5f2bc",
   "metadata": {},
   "outputs": [],
   "source": [
    "w = nv.show_mdanalysis(atmGrp)\n",
    "\n",
    "w._remote_call(\"setSize\", target=\"Widget\", args=[\"800px\", \"600px\"])\n",
    "w.parameters = dict(theme='light')\n",
    "\n",
    "w.clear_representations()\n",
    "w.add_representation(repr_type=\"ball+stick\", selection=\"all\")\n",
    "\n",
    "showNodeGrps(w, atmGrp, usrNodeGroups)\n",
    "\n",
    "w"
   ]
  },
  {
   "cell_type": "markdown",
   "id": "8c5d679b",
   "metadata": {},
   "source": [
    "### Sanity check\n",
    "\n",
    "3. Finally, let's pretend we accidentally removed one atom from our selections, like so:\n",
    "\n",
    "(You will notice the nitrogen atom's lable will show up red, to indicate it does not belong to any atom group)"
   ]
  },
  {
   "cell_type": "code",
   "execution_count": null,
   "id": "3d452a95",
   "metadata": {},
   "outputs": [],
   "source": [
    "usrNodeGroups = {}\n",
    "\n",
    "usrNodeGroups[\"VAL\"] = {}\n",
    "# usrNodeGroups[\"VAL\"][\"CA\"] = ['C', 'O', 'N', 'CA']\n",
    "usrNodeGroups[\"VAL\"][\"CA\"] = {'CA', 'O', 'C'}\n",
    "usrNodeGroups[\"VAL\"][\"CB\"] = {'CG1', 'CG2', 'CB'}\n",
    "\n",
    "usrNodeGroups"
   ]
  },
  {
   "cell_type": "code",
   "execution_count": null,
   "id": "9811817a",
   "metadata": {},
   "outputs": [],
   "source": [
    "w = nv.show_mdanalysis(atmGrp)\n",
    "\n",
    "w._remote_call(\"setSize\", target=\"Widget\", args=[\"800px\", \"600px\"])\n",
    "w.parameters = dict(theme='light')\n",
    "\n",
    "w.clear_representations()\n",
    "w.add_representation(repr_type=\"ball+stick\", selection=\"all\")\n",
    "\n",
    "showNodeGrps(w, atmGrp, usrNodeGroups)\n",
    "\n",
    "w"
   ]
  },
  {
   "cell_type": "markdown",
   "id": "57e1bb83",
   "metadata": {},
   "source": [
    "# Cardiolipin: Dividing a large lipid into node groups\n",
    "\n",
    "For the second part of this tutorial, we will tackle a more complex case of a large flexible residue: The Cardiolipin. This is a major component of the inner mitochondrial membrane, essential for animal and plant cells, and commonly found in bacterial membranes.\n",
    "\n",
    "It's large and flexible structure creates a problem for network analysis since representing the entire residue through a single atom would likely lead us to miss important interactions between proteins and its phosphatidic acid and alkyl moieties.\n",
    "\n",
    "Let's start by loading the system:"
   ]
  },
  {
   "cell_type": "code",
   "execution_count": null,
   "id": "18ae55a3",
   "metadata": {},
   "outputs": [],
   "source": [
    "workDir = \"./TutorialData/NonCanonical/\"\n",
    "\n",
    "# PSF file name\n",
    "psfFile = os.path.join(workDir, \"clip.psf\")\n",
    "\n",
    "# DCD file name\n",
    "dcdFiles = [os.path.join(workDir, \"clip.pdb\")]"
   ]
  },
  {
   "cell_type": "code",
   "execution_count": null,
   "id": "5d7ca50a",
   "metadata": {},
   "outputs": [],
   "source": [
    "dnap.loadSystem(psfFile,dcdFiles)"
   ]
  },
  {
   "cell_type": "markdown",
   "id": "dfbb9dfd",
   "metadata": {},
   "source": [
    "Now we can use MDanalysis to access atom names. As usual, we remove hydrogen atoms from our selection:"
   ]
  },
  {
   "cell_type": "code",
   "execution_count": null,
   "id": "f57a901c",
   "metadata": {},
   "outputs": [],
   "source": [
    "atmGrp = dnap.workU.select_atoms(\"resname TOCL2 and (not (name H* or name [123]H*))\")\n",
    "atmGrp"
   ]
  },
  {
   "cell_type": "markdown",
   "id": "fc5df062",
   "metadata": {},
   "source": [
    "These are all the names for the 100 heavy atoms (or non-hydrogen atoms) in our selection:"
   ]
  },
  {
   "cell_type": "code",
   "execution_count": null,
   "id": "e0c46d1e",
   "metadata": {},
   "outputs": [],
   "source": [
    "print(list(atmGrp.names))"
   ]
  },
  {
   "cell_type": "markdown",
   "id": "043ada2e",
   "metadata": {},
   "source": [
    "We can take a look at the simplified representation here:"
   ]
  },
  {
   "cell_type": "code",
   "execution_count": null,
   "id": "ad2bd0b2",
   "metadata": {},
   "outputs": [],
   "source": [
    "w = nv.show_mdanalysis(atmGrp)\n",
    "\n",
    "w._remote_call(\"setSize\", target=\"Widget\", args=[\"800px\", \"600px\"])\n",
    "w.parameters = dict(theme='light')\n",
    "\n",
    "w.clear_representations()\n",
    "w.add_representation(repr_type=\"ball+stick\", selection=\"all\")\n",
    "\n",
    "w"
   ]
  },
  {
   "cell_type": "markdown",
   "id": "1837289a",
   "metadata": {},
   "source": [
    "Now we need to create the selections for each node group.\n",
    "\n",
    "Looking at our structure, we can define a few atoms to be prominent nodes in the system. We will select the central carbon atom in the glycerol group, and the central carbon atom in each phspholipidic headgroup, creating a total of **five** node groups for our residue:\n",
    "- C2, CA1, CB1, CC1, CD1"
   ]
  },
  {
   "cell_type": "code",
   "execution_count": null,
   "id": "76f0063c",
   "metadata": {},
   "outputs": [],
   "source": [
    "\n",
    "nodes  = [\"C2\", \"CA1\", \"CB1\", \"CC1\", \"CD1\"]\n"
   ]
  },
  {
   "cell_type": "markdown",
   "id": "56f860bd",
   "metadata": {},
   "source": [
    "We will now use the list of atom names to create each node group.\n",
    "\n",
    "['C3', 'P3', 'OP33', 'OP34', 'OP31', 'OP32', 'C31', 'C2', 'OG12', 'C1', 'P1', 'OP13', 'OP14', 'OP11', 'OP12', 'C11', 'C12', 'O12', 'CA1', 'OA1', 'CA2', 'C13', 'O13', 'CB1', 'OB1', 'CB2', 'C32', 'O32', 'CC1', 'OC1', 'CC2', 'C33', 'O33', 'CD1', 'OD1', 'CD2', 'CA3', 'CA4', 'CA5', 'CA6', 'CA7', 'CA8', 'CA9', 'CA10', 'CA11', 'CA12', 'CA13', 'CA14', 'CA15', 'CA16', 'CA17', 'CA18', 'CB3', 'CB4', 'CB5', 'CB6', 'CB7', 'CB8', 'CB9', 'CB10', 'CB11', 'CB12', 'CB13', 'CB14', 'CB15', 'CB16', 'CB17', 'CB18', 'CC3', 'CC4', 'CC5', 'CC6', 'CC7', 'CC8', 'CC9', 'CC10', 'CC11', 'CC12', 'CC13', 'CC14', 'CC15', 'CC16', 'CC17', 'CC18', 'CD3', 'CD4', 'CD5', 'CD6', 'CD7', 'CD8', 'CD9', 'CD10', 'CD11', 'CD12', 'CD13', 'CD14', 'CD15', 'CD16', 'CD17', 'CD18']\n",
    "\n",
    "The atoms are organized in a way that can help us split them into contiguous sections of the structure. By splitting the above list into segments, the patter becomes clear:\n",
    "\n",
    "'C3', 'P3', 'OP33', 'OP34', 'OP31', 'OP32', 'C31', 'C2', 'OG12', 'C1', 'P1', 'OP13', 'OP14', 'OP11', 'OP12', 'C11'\n",
    "\n",
    "'C12', 'O12', 'CA1', 'OA1', 'CA2', \n",
    "\n",
    "'C13', 'O13', 'CB1', 'OB1', 'CB2', \n",
    "\n",
    "'C32', 'O32', 'CC1', 'OC1', 'CC2', \n",
    "\n",
    "'C33', 'O33', 'CD1', 'OD1', 'CD2', \n",
    "\n",
    "'CA3', 'CA4', 'CA5', 'CA6', 'CA7', 'CA8', 'CA9', 'CA10', 'CA11', 'CA12', 'CA13', 'CA14', 'CA15', 'CA16', 'CA17', 'CA18',\n",
    "\n",
    "'CB3', 'CB4', 'CB5', 'CB6', 'CB7', 'CB8', 'CB9', 'CB10', 'CB11', 'CB12', 'CB13', 'CB14', 'CB15', 'CB16', 'CB17', 'CB18', \n",
    "\n",
    "'CC3', 'CC4', 'CC5', 'CC6', 'CC7', 'CC8', 'CC9', 'CC10', 'CC11', 'CC12', 'CC13', 'CC14', 'CC15', 'CC16', 'CC17', 'CC18', \n",
    "\n",
    "'CD3', 'CD4', 'CD5', 'CD6', 'CD7', 'CD8', 'CD9', 'CD10', 'CD11', 'CD12', 'CD13', 'CD14', 'CD15', 'CD16', 'CD17', 'CD18'"
   ]
  },
  {
   "cell_type": "code",
   "execution_count": null,
   "id": "2a1cd27c",
   "metadata": {},
   "outputs": [],
   "source": [
    "groups = [\n",
    "    ['C3', 'P3', 'OP33', 'OP34', 'OP31', 'OP32', 'C31', 'C2', 'OG12', 'C1', 'P1', 'OP13', 'OP14', 'OP11', 'OP12', 'C11'],\n",
    "    ['C12', 'O12', 'CA1', 'OA1', 'CA2', 'CA3', 'CA4', 'CA5', 'CA6', 'CA7', 'CA8', 'CA9', 'CA10', 'CA11', 'CA12', 'CA13', 'CA14', 'CA15', 'CA16', 'CA17', 'CA18'],\n",
    "    ['C13', 'O13', 'CB1', 'OB1', 'CB2', 'CB3', 'CB4', 'CB5', 'CB6', 'CB7', 'CB8', 'CB9', 'CB10', 'CB11', 'CB12', 'CB13', 'CB14', 'CB15', 'CB16', 'CB17', 'CB18'],\n",
    "    ['C32', 'O32', 'CC1', 'OC1', 'CC2', 'CC3', 'CC4', 'CC5', 'CC6', 'CC7', 'CC8', 'CC9', 'CC10', 'CC11', 'CC12', 'CC13', 'CC14', 'CC15', 'CC16', 'CC17', 'CC18'],\n",
    "    ['C33', 'O33', 'CD1', 'OD1', 'CD2', 'CD3', 'CD4', 'CD5', 'CD6', 'CD7', 'CD8', 'CD9', 'CD10', 'CD11', 'CD12', 'CD13', 'CD14', 'CD15', 'CD16', 'CD17', 'CD18']\n",
    "]\n",
    "\n",
    "formatNodeGroups(atmGrp, nodes, groups)"
   ]
  },
  {
   "cell_type": "code",
   "execution_count": null,
   "id": "9b7eebaa",
   "metadata": {},
   "outputs": [],
   "source": [
    "usrNodeGroups[\"TOCL2\"] = {}\n",
    "usrNodeGroups[\"TOCL2\"][\"C2\"] = {'OP31', 'OP33', 'C2', 'C31', 'OP14', 'P1', 'OG12', 'OP34', 'C1', 'C11', 'OP12', 'P3', 'C3', 'OP32', 'OP13', 'OP11'}\n",
    "usrNodeGroups[\"TOCL2\"][\"CA1\"] = {'CA17', 'CA15', 'CA18', 'CA10', 'CA4', 'C12', 'CA12', 'CA7', 'CA2', 'OA1', 'CA5', 'CA6', 'CA9', 'CA16', 'CA13', 'CA1', 'O12', 'CA3', 'CA8', 'CA14', 'CA11'}\n",
    "usrNodeGroups[\"TOCL2\"][\"CB1\"] = {'CB2', 'CB9', 'O13', 'CB3', 'CB12', 'CB16', 'CB18', 'CB8', 'C13', 'CB1', 'OB1', 'CB11', 'CB17', 'CB15', 'CB5', 'CB6', 'CB10', 'CB13', 'CB14', 'CB7', 'CB4'}\n",
    "usrNodeGroups[\"TOCL2\"][\"CC1\"] = {'CC14', 'OC1', 'CC13', 'CC17', 'CC5', 'CC12', 'CC6', 'CC18', 'CC15', 'CC3', 'CC1', 'CC7', 'CC10', 'CC16', 'O32', 'CC9', 'C32', 'CC8', 'CC2', 'CC4', 'CC11'}\n",
    "usrNodeGroups[\"TOCL2\"][\"CD1\"] = {'CD14', 'CD12', 'CD9', 'O33', 'CD16', 'CD4', 'CD18', 'CD13', 'CD1', 'OD1', 'CD5', 'CD8', 'CD10', 'CD6', 'CD15', 'CD2', 'CD7', 'C33', 'CD17', 'CD3', 'CD11'}"
   ]
  },
  {
   "cell_type": "markdown",
   "id": "41f66506",
   "metadata": {},
   "source": [
    "Now we can visualize the selection:"
   ]
  },
  {
   "cell_type": "code",
   "execution_count": null,
   "id": "5d87440d",
   "metadata": {},
   "outputs": [],
   "source": [
    "w = nv.show_mdanalysis(atmGrp)\n",
    "\n",
    "w._remote_call(\"setSize\", target=\"Widget\", args=[\"800px\", \"600px\"])\n",
    "w.parameters = dict(theme='light')\n",
    "\n",
    "w.clear_representations()\n",
    "w.add_representation(repr_type=\"ball+stick\", selection=\"all\")\n",
    "\n",
    "showNodeGrps(w, atmGrp, usrNodeGroups)\n",
    "\n",
    "w"
   ]
  },
  {
   "cell_type": "markdown",
   "id": "15b7da1a",
   "metadata": {},
   "source": [
    "We can also examine each group individually by giving the function `showNodeGrps` an extra argument:"
   ]
  },
  {
   "cell_type": "code",
   "execution_count": null,
   "id": "77da67d0",
   "metadata": {},
   "outputs": [],
   "source": [
    "w = nv.show_mdanalysis(atmGrp)\n",
    "\n",
    "w._remote_call(\"setSize\", target=\"Widget\", args=[\"800px\", \"600px\"])\n",
    "w.parameters = dict(theme='light')\n",
    "\n",
    "w.clear_representations()\n",
    "w.add_representation(repr_type=\"ball+stick\", selection=\"all\")\n",
    "\n",
    "showNodeGrps(w, atmGrp, usrNodeGroups, nodeAtmSel=\"CC1\")\n",
    "\n",
    "w"
   ]
  },
  {
   "cell_type": "markdown",
   "id": "f109487f",
   "metadata": {},
   "source": [
    "# The End"
   ]
  }
 ],
 "metadata": {
  "kernelspec": {
   "display_name": "Python 3 (ipykernel)",
   "language": "python",
   "name": "python3"
  },
  "language_info": {
   "codemirror_mode": {
    "name": "ipython",
    "version": 3
   },
   "file_extension": ".py",
   "mimetype": "text/x-python",
   "name": "python",
   "nbconvert_exporter": "python",
   "pygments_lexer": "ipython3",
   "version": "3.9.12"
  }
 },
 "nbformat": 4,
 "nbformat_minor": 5
}
