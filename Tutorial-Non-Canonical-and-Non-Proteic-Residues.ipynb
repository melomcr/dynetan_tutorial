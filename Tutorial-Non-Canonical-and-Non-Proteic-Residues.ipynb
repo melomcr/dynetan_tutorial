{
 "cells": [
  {
   "cell_type": "markdown",
   "id": "42f59156",
   "metadata": {},
   "source": [
    "# Generalized Network Analysis Tutorial - Non-Canonical and Non-Proteic Residues\n",
    "\n",
    "This tutorial will show how to prepare systems with non-canonical amino acid residues and non-proteic residues such as small ligands, sugars, and lipids.\n",
    "\n",
    "If you have not gone through the first part of this tutorial, we strongly encourage you to start with the \"Generalized Network Analysis Tutorial - Step 1\" notebook.\n",
    "\n",
    "The Dynamic Network Analysis package requires a description of **node groups**. These can be trivial to obtain, such as when a non-canonical amino acid is represented by its alpha-carbon. However, for large lipid molecules in a cell membrane, or long and flexible ligands, one may wish to describe the residue using multiple node groups.\n",
    "\n",
    "This tutorial will explore specialized functions and visualization tools that will help you prepare your system for Dynamic Network Analysis.\n",
    "\n",
    "We will once more analyze the MD trajectory for the OMP decarboxylase system and then move on to a more complicated example using a large lipid molecule.\n"
   ]
  },
  {
   "cell_type": "code",
   "execution_count": 2,
   "id": "540c2e64",
   "metadata": {
    "ExecuteTime": {
     "end_time": "2023-02-20T18:57:57.475960Z",
     "start_time": "2023-02-20T18:57:57.458441Z"
    }
   },
   "outputs": [
    {
     "data": {
      "application/vnd.jupyter.widget-view+json": {
       "model_id": "ec794473f0594495a4143a7756ce2c6f",
       "version_major": 2,
       "version_minor": 0
      },
      "text/plain": []
     },
     "metadata": {},
     "output_type": "display_data"
    }
   ],
   "source": [
    "# Load the python package\n",
    "import os\n",
    "import dynetan as dna\n",
    "from dynetan.toolkit import formatNodeGroups, showNodeGroups\n",
    "\n",
    "# For visualization\n",
    "import nglview    as nv\n",
    "\n",
    "# Create the object that processes MD trajectories.\n",
    "dnap = dna.proctraj.DNAproc()"
   ]
  },
  {
   "cell_type": "code",
   "execution_count": 3,
   "id": "688ee7c0",
   "metadata": {
    "ExecuteTime": {
     "end_time": "2023-02-20T18:57:59.285500Z",
     "start_time": "2023-02-20T18:57:59.282293Z"
    }
   },
   "outputs": [],
   "source": [
    "workDir = \"./TutorialData/\"\n",
    "\n",
    "# PSF file name\n",
    "psfFile = os.path.join(workDir, \"decarboxylase.0.psf\")\n",
    "\n",
    "# DCD file name\n",
    "dcdFiles = [os.path.join(workDir, \"decarboxylase.1.short.dcd\")]"
   ]
  },
  {
   "cell_type": "code",
   "execution_count": 4,
   "id": "b032461a",
   "metadata": {
    "ExecuteTime": {
     "end_time": "2023-02-20T18:58:01.028578Z",
     "start_time": "2023-02-20T18:58:00.674373Z"
    }
   },
   "outputs": [],
   "source": [
    "dnap.loadSystem(psfFile,dcdFiles)"
   ]
  },
  {
   "cell_type": "markdown",
   "id": "b4615b4a",
   "metadata": {},
   "source": [
    "Here, we use MDAnalysis selection language to select a single valine residue. Note that we usually remove all hydrogen atoms from a system before Dynamical Network Analysis. We do this because node movement already captures most hydrogen-mediated interactions (like H-bonds), and keeping them would drastically increase the computational cost for contact detection."
   ]
  },
  {
   "cell_type": "code",
   "execution_count": 5,
   "id": "a9fce9e5",
   "metadata": {
    "ExecuteTime": {
     "end_time": "2023-02-20T18:58:02.924886Z",
     "start_time": "2023-02-20T18:58:02.914000Z"
    }
   },
   "outputs": [
    {
     "data": {
      "text/plain": [
       "<AtomGroup with 7 atoms>"
      ]
     },
     "execution_count": 5,
     "metadata": {},
     "output_type": "execute_result"
    }
   ],
   "source": [
    "# atmGrp = dnap.workU.select_atoms(\"resid 11 and resname VAL\")\n",
    "atmGrp = dnap.workU.select_atoms(\"resid 11 and resname VAL and (not (name H* or name [123]H*))\")\n",
    "atmGrp"
   ]
  },
  {
   "cell_type": "markdown",
   "id": "9a346349",
   "metadata": {},
   "source": [
    "These are all the names for atoms in our selection:"
   ]
  },
  {
   "cell_type": "code",
   "execution_count": 6,
   "id": "b5e377c2",
   "metadata": {
    "ExecuteTime": {
     "end_time": "2023-02-20T18:58:12.125231Z",
     "start_time": "2023-02-20T18:58:12.122166Z"
    }
   },
   "outputs": [
    {
     "name": "stdout",
     "output_type": "stream",
     "text": [
      "['N', 'CA', 'CB', 'CG1', 'CG2', 'C', 'O']\n"
     ]
    }
   ],
   "source": [
    "print(list(atmGrp.names))"
   ]
  },
  {
   "cell_type": "markdown",
   "id": "68abf1b2",
   "metadata": {},
   "source": [
    "### DyNetAn syntax\n",
    "\n",
    "Now that we know all atoms in our residue, we can decide how to split them into node groups. We usually take the alpha-carbon as the node for simple amino acid residues, assingning all backbone and side chain atoms to a single node group.\n",
    "\n",
    "To facilitate this process, we can use the function `formatNodeGroups` from `dynetan.toolkit` :"
   ]
  },
  {
   "cell_type": "code",
   "execution_count": 7,
   "id": "4834ee99",
   "metadata": {
    "ExecuteTime": {
     "end_time": "2023-02-20T19:02:09.454242Z",
     "start_time": "2023-02-20T19:02:09.451375Z"
    }
   },
   "outputs": [
    {
     "name": "stdout",
     "output_type": "stream",
     "text": [
      "\n",
      "        You can copy and paste the following lines into your notebook to define\n",
      "        the node group(s) for your new residue.\n",
      "        \n",
      "usrNodeGroups[\"VAL\"] = {}\n",
      "usrNodeGroups[\"VAL\"][\"CA\"] = {'CG1', 'CG2', 'CA', 'CB', 'C', 'O', 'N'}\n"
     ]
    }
   ],
   "source": [
    "formatNodeGroups(atmGrp, [\"CA\"])"
   ]
  },
  {
   "cell_type": "markdown",
   "id": "8544c135",
   "metadata": {},
   "source": [
    "As the function output indicates, we can copy and paste the code to indicate how we wish to analyze our system."
   ]
  },
  {
   "cell_type": "code",
   "execution_count": 8,
   "id": "fa459b04",
   "metadata": {
    "ExecuteTime": {
     "end_time": "2023-02-20T19:02:42.487064Z",
     "start_time": "2023-02-20T19:02:42.482721Z"
    }
   },
   "outputs": [
    {
     "data": {
      "text/plain": [
       "{'VAL': {'CA': {'C', 'CA', 'CB', 'CG1', 'CG2', 'N', 'O'}}}"
      ]
     },
     "execution_count": 8,
     "metadata": {},
     "output_type": "execute_result"
    }
   ],
   "source": [
    "usrNodeGroups = {}\n",
    "\n",
    "usrNodeGroups[\"VAL\"] = {}\n",
    "usrNodeGroups[\"VAL\"][\"CA\"] = {'O', 'CB', 'CA', 'CG1', 'C', 'CG2', 'N'}\n",
    "\n",
    "usrNodeGroups"
   ]
  },
  {
   "cell_type": "markdown",
   "id": "4bb8d11d",
   "metadata": {},
   "source": [
    "# Visual check\n",
    "\n",
    "Here, we use [NGLviewer](https://nglviewer.org/ngl/api/manual/index.html) to create an interactive visualization of our residue and to check how nodes and node groups are assigned.\n",
    "\n",
    "1. First, let's create a full visualization of the residue, labeling all nodes and groups. This will highlight any atom(s) left out of our selections.\n",
    "    - Nodes will show up with **atom names** in <font color='green'>**GREEN**</font>, node group atoms will be labelled with **atom names** in **BLACK**, and unselected atoms will be labelled with their **atom names** in <font color='red'>**RED**</font>."
   ]
  },
  {
   "cell_type": "code",
   "execution_count": 10,
   "id": "fa87498e",
   "metadata": {
    "ExecuteTime": {
     "end_time": "2023-02-20T19:04:05.987379Z",
     "start_time": "2023-02-20T19:04:05.880918Z"
    }
   },
   "outputs": [
    {
     "data": {
      "application/vnd.jupyter.widget-view+json": {
       "model_id": "e643f316e08b4cf7ae021f29678ec64d",
       "version_major": 2,
       "version_minor": 0
      },
      "text/plain": [
       "NGLWidget(max_frame=19)"
      ]
     },
     "metadata": {},
     "output_type": "display_data"
    }
   ],
   "source": [
    "# http://nglviewer.org/ngl/api/typedef/index.html#static-typedef-LabelRepresentationParameters\n",
    "\n",
    "w = nv.show_mdanalysis(atmGrp)\n",
    "\n",
    "w._remote_call(\"setSize\", target=\"Widget\", args=[\"800px\", \"600px\"])\n",
    "w.parameters = dict(theme='light')\n",
    "\n",
    "w.clear_representations()\n",
    "w.add_representation(repr_type=\"ball+stick\", selection=\"all\")\n",
    "\n",
    "showNodeGroups(w, atmGrp, usrNodeGroups)\n",
    "\n",
    "w"
   ]
  },
  {
   "cell_type": "markdown",
   "id": "6d24c7dc",
   "metadata": {},
   "source": [
    "### Divide a residue into multiple groups:\n",
    "\n",
    "2. Now, let's pretend we want to break up all valine residues into two node groups, one centered at the alpha-carbon and another at the beta-carbon, like so:"
   ]
  },
  {
   "cell_type": "code",
   "execution_count": 11,
   "id": "51e0bcf7",
   "metadata": {
    "ExecuteTime": {
     "end_time": "2023-02-20T19:04:39.524171Z",
     "start_time": "2023-02-20T19:04:39.520678Z"
    }
   },
   "outputs": [
    {
     "name": "stdout",
     "output_type": "stream",
     "text": [
      "\n",
      "        You can copy and paste the following lines into your notebook to define\n",
      "        the node group(s) for your new residue.\n",
      "        \n",
      "usrNodeGroups[\"VAL\"] = {}\n",
      "usrNodeGroups[\"VAL\"][\"CA\"] = {'C', 'CA', 'N', 'O'}\n",
      "usrNodeGroups[\"VAL\"][\"CB\"] = {'CB', 'CG1', 'CG2'}\n"
     ]
    }
   ],
   "source": [
    "formatNodeGroups(atmGrp, \n",
    "                           [\"CA\",\"CB\"], \n",
    "                           [\n",
    "                               ['C', 'O', 'N', 'CA'],\n",
    "                               ['CB', 'CG1', 'CG2']\n",
    "                           ]\n",
    "                          )"
   ]
  },
  {
   "cell_type": "code",
   "execution_count": 12,
   "id": "e72aefd6",
   "metadata": {
    "ExecuteTime": {
     "end_time": "2023-02-20T19:04:41.820994Z",
     "start_time": "2023-02-20T19:04:41.816321Z"
    }
   },
   "outputs": [
    {
     "data": {
      "text/plain": [
       "{'VAL': {'CA': {'C', 'CA', 'N', 'O'}, 'CB': {'CB', 'CG1', 'CG2'}}}"
      ]
     },
     "execution_count": 12,
     "metadata": {},
     "output_type": "execute_result"
    }
   ],
   "source": [
    "usrNodeGroups = {}\n",
    "\n",
    "usrNodeGroups[\"VAL\"] = {}\n",
    "usrNodeGroups[\"VAL\"][\"CA\"] = {'CA', 'O', 'C', 'N'}\n",
    "usrNodeGroups[\"VAL\"][\"CB\"] = {'CG1', 'CG2', 'CB'}\n",
    "\n",
    "usrNodeGroups"
   ]
  },
  {
   "cell_type": "code",
   "execution_count": 14,
   "id": "e2f5f2bc",
   "metadata": {
    "ExecuteTime": {
     "end_time": "2023-02-20T19:04:56.401998Z",
     "start_time": "2023-02-20T19:04:56.288111Z"
    }
   },
   "outputs": [
    {
     "data": {
      "application/vnd.jupyter.widget-view+json": {
       "model_id": "e82548a5395148d0ac2d299223ba7cbb",
       "version_major": 2,
       "version_minor": 0
      },
      "text/plain": [
       "NGLWidget(max_frame=19)"
      ]
     },
     "metadata": {},
     "output_type": "display_data"
    }
   ],
   "source": [
    "w = nv.show_mdanalysis(atmGrp)\n",
    "\n",
    "w._remote_call(\"setSize\", target=\"Widget\", args=[\"800px\", \"600px\"])\n",
    "w.parameters = dict(theme='light')\n",
    "\n",
    "w.clear_representations()\n",
    "w.add_representation(repr_type=\"ball+stick\", selection=\"all\")\n",
    "\n",
    "showNodeGroups(w, atmGrp, usrNodeGroups)\n",
    "\n",
    "w"
   ]
  },
  {
   "cell_type": "markdown",
   "id": "8c5d679b",
   "metadata": {},
   "source": [
    "### Sanity check\n",
    "\n",
    "3. Finally, let's pretend we accidentally removed one atom from our selections, like so:\n",
    "\n",
    "(You will notice the nitrogen atom's label will show up in red, to indicate it does not belong to any atom group)"
   ]
  },
  {
   "cell_type": "code",
   "execution_count": 15,
   "id": "3d452a95",
   "metadata": {
    "ExecuteTime": {
     "end_time": "2023-02-20T19:07:57.253348Z",
     "start_time": "2023-02-20T19:07:57.248688Z"
    }
   },
   "outputs": [
    {
     "data": {
      "text/plain": [
       "{'VAL': {'CA': {'C', 'CA', 'O'}, 'CB': {'CB', 'CG1', 'CG2'}}}"
      ]
     },
     "execution_count": 15,
     "metadata": {},
     "output_type": "execute_result"
    }
   ],
   "source": [
    "usrNodeGroups = {}\n",
    "\n",
    "usrNodeGroups[\"VAL\"] = {}\n",
    "# usrNodeGroups[\"VAL\"][\"CA\"] = ['C', 'O', 'N', 'CA']\n",
    "usrNodeGroups[\"VAL\"][\"CA\"] = {'CA', 'O', 'C'}\n",
    "usrNodeGroups[\"VAL\"][\"CB\"] = {'CG1', 'CG2', 'CB'}\n",
    "\n",
    "usrNodeGroups"
   ]
  },
  {
   "cell_type": "code",
   "execution_count": 16,
   "id": "9811817a",
   "metadata": {
    "ExecuteTime": {
     "end_time": "2023-02-20T19:08:01.765021Z",
     "start_time": "2023-02-20T19:08:01.624649Z"
    }
   },
   "outputs": [
    {
     "data": {
      "application/vnd.jupyter.widget-view+json": {
       "model_id": "d9b71b1812374796957765c6e42c46df",
       "version_major": 2,
       "version_minor": 0
      },
      "text/plain": [
       "NGLWidget(max_frame=19)"
      ]
     },
     "metadata": {},
     "output_type": "display_data"
    }
   ],
   "source": [
    "w = nv.show_mdanalysis(atmGrp)\n",
    "\n",
    "w._remote_call(\"setSize\", target=\"Widget\", args=[\"800px\", \"600px\"])\n",
    "w.parameters = dict(theme='light')\n",
    "\n",
    "w.clear_representations()\n",
    "w.add_representation(repr_type=\"ball+stick\", selection=\"all\")\n",
    "\n",
    "showNodeGroups(w, atmGrp, usrNodeGroups)\n",
    "\n",
    "w"
   ]
  },
  {
   "cell_type": "markdown",
   "id": "57e1bb83",
   "metadata": {},
   "source": [
    "# Cardiolipin: Dividing a large lipid into node groups\n",
    "\n",
    "For the second part of this tutorial, we will tackle a more complex case of a large flexible residue: The Cardiolipin. This is a major component of the inner mitochondrial membrane, essential for animal and plant cells, and commonly found in bacterial membranes.\n",
    "\n",
    "Its large and flexible structure creates a problem for network analysis since representing the entire residue through a single atom would likely lead us to miss important interactions between proteins and cardiolipin's phosphatidic acid and alkyl moieties.\n",
    "\n",
    "Let's start by loading the system:"
   ]
  },
  {
   "cell_type": "code",
   "execution_count": 17,
   "id": "18ae55a3",
   "metadata": {
    "ExecuteTime": {
     "end_time": "2023-02-20T19:09:33.411791Z",
     "start_time": "2023-02-20T19:09:33.408842Z"
    }
   },
   "outputs": [],
   "source": [
    "workDir = \"./TutorialData/NonCanonical/\"\n",
    "\n",
    "# PSF file name\n",
    "psfFile = os.path.join(workDir, \"clip.psf\")\n",
    "\n",
    "# DCD file name\n",
    "dcdFiles = [os.path.join(workDir, \"clip.pdb\")]"
   ]
  },
  {
   "cell_type": "code",
   "execution_count": 18,
   "id": "5d7ca50a",
   "metadata": {
    "ExecuteTime": {
     "end_time": "2023-02-20T19:09:34.427602Z",
     "start_time": "2023-02-20T19:09:34.409054Z"
    }
   },
   "outputs": [
    {
     "name": "stderr",
     "output_type": "stream",
     "text": [
      "/home/melomcr/anaconda3/envs/DyNetAn_DevEnv_MDA2/lib/python3.9/site-packages/MDAnalysis/coordinates/base.py:892: UserWarning: Reader has no dt information, set to 1.0 ps\n",
      "  warnings.warn(\"Reader has no dt information, set to 1.0 ps\")\n"
     ]
    }
   ],
   "source": [
    "dnap.loadSystem(psfFile,dcdFiles)"
   ]
  },
  {
   "cell_type": "markdown",
   "id": "dfbb9dfd",
   "metadata": {},
   "source": [
    "Now we can use MDAnalysis to access atom names. As usual, we remove hydrogen atoms from our selection:"
   ]
  },
  {
   "cell_type": "code",
   "execution_count": 19,
   "id": "f57a901c",
   "metadata": {
    "ExecuteTime": {
     "end_time": "2023-02-20T19:09:52.518310Z",
     "start_time": "2023-02-20T19:09:52.512713Z"
    }
   },
   "outputs": [
    {
     "data": {
      "text/plain": [
       "<AtomGroup with 100 atoms>"
      ]
     },
     "execution_count": 19,
     "metadata": {},
     "output_type": "execute_result"
    }
   ],
   "source": [
    "atmGrp = dnap.workU.select_atoms(\"resname TOCL2 and (not (name H* or name [123]H*))\")\n",
    "atmGrp"
   ]
  },
  {
   "cell_type": "markdown",
   "id": "fc5df062",
   "metadata": {},
   "source": [
    "These are all the names for the 100 heavy atoms (or non-hydrogen atoms) in our selection:"
   ]
  },
  {
   "cell_type": "code",
   "execution_count": 20,
   "id": "e0c46d1e",
   "metadata": {
    "ExecuteTime": {
     "end_time": "2023-02-20T19:10:05.643158Z",
     "start_time": "2023-02-20T19:10:05.640354Z"
    }
   },
   "outputs": [
    {
     "name": "stdout",
     "output_type": "stream",
     "text": [
      "['C3', 'P3', 'OP33', 'OP34', 'OP31', 'OP32', 'C31', 'C2', 'OG12', 'C1', 'P1', 'OP13', 'OP14', 'OP11', 'OP12', 'C11', 'C12', 'O12', 'CA1', 'OA1', 'CA2', 'C13', 'O13', 'CB1', 'OB1', 'CB2', 'C32', 'O32', 'CC1', 'OC1', 'CC2', 'C33', 'O33', 'CD1', 'OD1', 'CD2', 'CA3', 'CA4', 'CA5', 'CA6', 'CA7', 'CA8', 'CA9', 'CA10', 'CA11', 'CA12', 'CA13', 'CA14', 'CA15', 'CA16', 'CA17', 'CA18', 'CB3', 'CB4', 'CB5', 'CB6', 'CB7', 'CB8', 'CB9', 'CB10', 'CB11', 'CB12', 'CB13', 'CB14', 'CB15', 'CB16', 'CB17', 'CB18', 'CC3', 'CC4', 'CC5', 'CC6', 'CC7', 'CC8', 'CC9', 'CC10', 'CC11', 'CC12', 'CC13', 'CC14', 'CC15', 'CC16', 'CC17', 'CC18', 'CD3', 'CD4', 'CD5', 'CD6', 'CD7', 'CD8', 'CD9', 'CD10', 'CD11', 'CD12', 'CD13', 'CD14', 'CD15', 'CD16', 'CD17', 'CD18']\n"
     ]
    }
   ],
   "source": [
    "print(list(atmGrp.names))"
   ]
  },
  {
   "cell_type": "markdown",
   "id": "043ada2e",
   "metadata": {},
   "source": [
    "We can take a look at this simplified representation here:"
   ]
  },
  {
   "cell_type": "code",
   "execution_count": 21,
   "id": "ad2bd0b2",
   "metadata": {
    "ExecuteTime": {
     "end_time": "2023-02-20T19:10:19.049549Z",
     "start_time": "2023-02-20T19:10:19.000722Z"
    }
   },
   "outputs": [
    {
     "data": {
      "application/vnd.jupyter.widget-view+json": {
       "model_id": "c57d5c2b60b54dce906fef63640e16c4",
       "version_major": 2,
       "version_minor": 0
      },
      "text/plain": [
       "NGLWidget()"
      ]
     },
     "metadata": {},
     "output_type": "display_data"
    }
   ],
   "source": [
    "w = nv.show_mdanalysis(atmGrp)\n",
    "\n",
    "w._remote_call(\"setSize\", target=\"Widget\", args=[\"800px\", \"600px\"])\n",
    "w.parameters = dict(theme='light')\n",
    "\n",
    "w.clear_representations()\n",
    "w.add_representation(repr_type=\"ball+stick\", selection=\"all\")\n",
    "\n",
    "w"
   ]
  },
  {
   "cell_type": "markdown",
   "id": "1837289a",
   "metadata": {},
   "source": [
    "Now we need to create the selections for each node group.\n",
    "\n",
    "Looking at our structure, we can define a few atoms to be prominent nodes in the system. We will select the central carbon atom in the glycerol group and the central carbon atom in each phspholipidic headgroup, creating a total of **five** node groups for our residue:\n",
    "- C2, CA1, CB1, CC1, CD1"
   ]
  },
  {
   "cell_type": "code",
   "execution_count": 22,
   "id": "76f0063c",
   "metadata": {
    "ExecuteTime": {
     "end_time": "2023-02-20T20:49:49.419073Z",
     "start_time": "2023-02-20T20:49:49.416649Z"
    }
   },
   "outputs": [],
   "source": [
    "\n",
    "nodes  = [\"C2\", \"CA1\", \"CB1\", \"CC1\", \"CD1\"]\n"
   ]
  },
  {
   "cell_type": "markdown",
   "id": "56f860bd",
   "metadata": {},
   "source": [
    "We will now use the list of atom names to create each node group.\n",
    "\n",
    "['C3', 'P3', 'OP33', 'OP34', 'OP31', 'OP32', 'C31', 'C2', 'OG12', 'C1', 'P1', 'OP13', 'OP14', 'OP11', 'OP12', 'C11', 'C12', 'O12', 'CA1', 'OA1', 'CA2', 'C13', 'O13', 'CB1', 'OB1', 'CB2', 'C32', 'O32', 'CC1', 'OC1', 'CC2', 'C33', 'O33', 'CD1', 'OD1', 'CD2', 'CA3', 'CA4', 'CA5', 'CA6', 'CA7', 'CA8', 'CA9', 'CA10', 'CA11', 'CA12', 'CA13', 'CA14', 'CA15', 'CA16', 'CA17', 'CA18', 'CB3', 'CB4', 'CB5', 'CB6', 'CB7', 'CB8', 'CB9', 'CB10', 'CB11', 'CB12', 'CB13', 'CB14', 'CB15', 'CB16', 'CB17', 'CB18', 'CC3', 'CC4', 'CC5', 'CC6', 'CC7', 'CC8', 'CC9', 'CC10', 'CC11', 'CC12', 'CC13', 'CC14', 'CC15', 'CC16', 'CC17', 'CC18', 'CD3', 'CD4', 'CD5', 'CD6', 'CD7', 'CD8', 'CD9', 'CD10', 'CD11', 'CD12', 'CD13', 'CD14', 'CD15', 'CD16', 'CD17', 'CD18']\n",
    "\n",
    "The atoms are organized in a way that can help us split them into contiguous sections of the structure. By splitting the above list into segments, the pattern becomes clear:\n",
    "\n",
    "- 'C3', 'P3', 'OP33', 'OP34', 'OP31', 'OP32', 'C31', 'C2', 'OG12', 'C1', 'P1', 'OP13', 'OP14', 'OP11', 'OP12', 'C11'\n",
    "\n",
    "- 'C12', 'O12', 'CA1', 'OA1', 'CA2', \n",
    "\n",
    "- 'C13', 'O13', 'CB1', 'OB1', 'CB2', \n",
    "\n",
    "- 'C32', 'O32', 'CC1', 'OC1', 'CC2', \n",
    "\n",
    "- 'C33', 'O33', 'CD1', 'OD1', 'CD2', \n",
    "\n",
    "- 'CA3', 'CA4', 'CA5', 'CA6', 'CA7', 'CA8', 'CA9', 'CA10', 'CA11', 'CA12', 'CA13', 'CA14', 'CA15', 'CA16', 'CA17', 'CA18',\n",
    "\n",
    "- 'CB3', 'CB4', 'CB5', 'CB6', 'CB7', 'CB8', 'CB9', 'CB10', 'CB11', 'CB12', 'CB13', 'CB14', 'CB15', 'CB16', 'CB17', 'CB18', \n",
    "\n",
    "- 'CC3', 'CC4', 'CC5', 'CC6', 'CC7', 'CC8', 'CC9', 'CC10', 'CC11', 'CC12', 'CC13', 'CC14', 'CC15', 'CC16', 'CC17', 'CC18', \n",
    "\n",
    "- 'CD3', 'CD4', 'CD5', 'CD6', 'CD7', 'CD8', 'CD9', 'CD10', 'CD11', 'CD12', 'CD13', 'CD14', 'CD15', 'CD16', 'CD17', 'CD18'"
   ]
  },
  {
   "cell_type": "code",
   "execution_count": 23,
   "id": "2a1cd27c",
   "metadata": {
    "ExecuteTime": {
     "end_time": "2023-02-20T20:54:34.917572Z",
     "start_time": "2023-02-20T20:54:34.911448Z"
    }
   },
   "outputs": [
    {
     "name": "stdout",
     "output_type": "stream",
     "text": [
      "\n",
      "        You can copy and paste the following lines into your notebook to define\n",
      "        the node group(s) for your new residue.\n",
      "        \n",
      "usrNodeGroups[\"TOCL2\"] = {}\n",
      "usrNodeGroups[\"TOCL2\"][\"C2\"] = {'C3', 'OG12', 'OP31', 'OP34', 'P1', 'OP11', 'C11', 'C31', 'OP14', 'OP12', 'C1', 'C2', 'OP32', 'OP13', 'P3', 'OP33'}\n",
      "usrNodeGroups[\"TOCL2\"][\"CA1\"] = {'CA3', 'CA15', 'CA6', 'CA17', 'C12', 'CA10', 'CA13', 'OA1', 'CA11', 'CA16', 'CA4', 'CA7', 'O12', 'CA2', 'CA1', 'CA14', 'CA18', 'CA12', 'CA5', 'CA8', 'CA9'}\n",
      "usrNodeGroups[\"TOCL2\"][\"CB1\"] = {'CB9', 'CB2', 'O13', 'CB6', 'CB10', 'CB13', 'C13', 'OB1', 'CB15', 'CB8', 'CB12', 'CB7', 'CB4', 'CB5', 'CB3', 'CB18', 'CB11', 'CB17', 'CB1', 'CB14', 'CB16'}\n",
      "usrNodeGroups[\"TOCL2\"][\"CC1\"] = {'C32', 'CC11', 'CC13', 'CC6', 'CC7', 'O32', 'OC1', 'CC12', 'CC10', 'CC1', 'CC16', 'CC17', 'CC4', 'CC5', 'CC3', 'CC2', 'CC14', 'CC8', 'CC9', 'CC15', 'CC18'}\n",
      "usrNodeGroups[\"TOCL2\"][\"CD1\"] = {'CD5', 'C33', 'CD11', 'OD1', 'CD17', 'CD16', 'CD2', 'CD7', 'CD8', 'CD4', 'CD10', 'CD14', 'CD3', 'CD18', 'CD13', 'O33', 'CD9', 'CD12', 'CD1', 'CD6', 'CD15'}\n"
     ]
    }
   ],
   "source": [
    "groups = [\n",
    "    ['C3', 'P3', 'OP33', 'OP34', 'OP31', 'OP32', 'C31', 'C2', 'OG12', 'C1', 'P1', 'OP13', 'OP14', 'OP11', 'OP12', 'C11'],\n",
    "    ['C12', 'O12', 'CA1', 'OA1', 'CA2', 'CA3', 'CA4', 'CA5', 'CA6', 'CA7', 'CA8', 'CA9', 'CA10', 'CA11', 'CA12', 'CA13', 'CA14', 'CA15', 'CA16', 'CA17', 'CA18'],\n",
    "    ['C13', 'O13', 'CB1', 'OB1', 'CB2', 'CB3', 'CB4', 'CB5', 'CB6', 'CB7', 'CB8', 'CB9', 'CB10', 'CB11', 'CB12', 'CB13', 'CB14', 'CB15', 'CB16', 'CB17', 'CB18'],\n",
    "    ['C32', 'O32', 'CC1', 'OC1', 'CC2', 'CC3', 'CC4', 'CC5', 'CC6', 'CC7', 'CC8', 'CC9', 'CC10', 'CC11', 'CC12', 'CC13', 'CC14', 'CC15', 'CC16', 'CC17', 'CC18'],\n",
    "    ['C33', 'O33', 'CD1', 'OD1', 'CD2', 'CD3', 'CD4', 'CD5', 'CD6', 'CD7', 'CD8', 'CD9', 'CD10', 'CD11', 'CD12', 'CD13', 'CD14', 'CD15', 'CD16', 'CD17', 'CD18']\n",
    "]\n",
    "\n",
    "formatNodeGroups(atmGrp, nodes, groups)"
   ]
  },
  {
   "cell_type": "code",
   "execution_count": 24,
   "id": "9b7eebaa",
   "metadata": {
    "ExecuteTime": {
     "end_time": "2023-02-20T20:54:37.390243Z",
     "start_time": "2023-02-20T20:54:37.384208Z"
    }
   },
   "outputs": [],
   "source": [
    "usrNodeGroups[\"TOCL2\"] = {}\n",
    "usrNodeGroups[\"TOCL2\"][\"C2\"] = {'OP31', 'OP33', 'C2', 'C31', 'OP14', 'P1', 'OG12', 'OP34', 'C1', 'C11', 'OP12', 'P3', 'C3', 'OP32', 'OP13', 'OP11'}\n",
    "usrNodeGroups[\"TOCL2\"][\"CA1\"] = {'CA17', 'CA15', 'CA18', 'CA10', 'CA4', 'C12', 'CA12', 'CA7', 'CA2', 'OA1', 'CA5', 'CA6', 'CA9', 'CA16', 'CA13', 'CA1', 'O12', 'CA3', 'CA8', 'CA14', 'CA11'}\n",
    "usrNodeGroups[\"TOCL2\"][\"CB1\"] = {'CB2', 'CB9', 'O13', 'CB3', 'CB12', 'CB16', 'CB18', 'CB8', 'C13', 'CB1', 'OB1', 'CB11', 'CB17', 'CB15', 'CB5', 'CB6', 'CB10', 'CB13', 'CB14', 'CB7', 'CB4'}\n",
    "usrNodeGroups[\"TOCL2\"][\"CC1\"] = {'CC14', 'OC1', 'CC13', 'CC17', 'CC5', 'CC12', 'CC6', 'CC18', 'CC15', 'CC3', 'CC1', 'CC7', 'CC10', 'CC16', 'O32', 'CC9', 'C32', 'CC8', 'CC2', 'CC4', 'CC11'}\n",
    "usrNodeGroups[\"TOCL2\"][\"CD1\"] = {'CD14', 'CD12', 'CD9', 'O33', 'CD16', 'CD4', 'CD18', 'CD13', 'CD1', 'OD1', 'CD5', 'CD8', 'CD10', 'CD6', 'CD15', 'CD2', 'CD7', 'C33', 'CD17', 'CD3', 'CD11'}"
   ]
  },
  {
   "cell_type": "markdown",
   "id": "41f66506",
   "metadata": {},
   "source": [
    "Now we can visualize the selection:"
   ]
  },
  {
   "cell_type": "code",
   "execution_count": 26,
   "id": "5d87440d",
   "metadata": {
    "ExecuteTime": {
     "end_time": "2023-02-20T20:54:44.633984Z",
     "start_time": "2023-02-20T20:54:44.581885Z"
    }
   },
   "outputs": [
    {
     "data": {
      "application/vnd.jupyter.widget-view+json": {
       "model_id": "81d26dcf818146e58a0b206733e6ac9f",
       "version_major": 2,
       "version_minor": 0
      },
      "text/plain": [
       "NGLWidget()"
      ]
     },
     "metadata": {},
     "output_type": "display_data"
    }
   ],
   "source": [
    "w = nv.show_mdanalysis(atmGrp)\n",
    "\n",
    "w._remote_call(\"setSize\", target=\"Widget\", args=[\"800px\", \"600px\"])\n",
    "w.parameters = dict(theme='light')\n",
    "\n",
    "w.clear_representations()\n",
    "w.add_representation(repr_type=\"ball+stick\", selection=\"all\")\n",
    "\n",
    "showNodeGroups(w, atmGrp, usrNodeGroups)\n",
    "\n",
    "w"
   ]
  },
  {
   "cell_type": "markdown",
   "id": "57daa783",
   "metadata": {},
   "source": [
    "One more, notice how nodes will show up with **atom names** in <font color='green'>**GREEN**</font> and node group atoms will be labelled with **atom names** in **BLACK**."
   ]
  },
  {
   "cell_type": "markdown",
   "id": "15b7da1a",
   "metadata": {},
   "source": [
    "We can also examine each group individually by giving the function `showNodeGroups` an extra argument:"
   ]
  },
  {
   "cell_type": "code",
   "execution_count": 28,
   "id": "77da67d0",
   "metadata": {
    "ExecuteTime": {
     "end_time": "2023-02-20T20:55:26.721417Z",
     "start_time": "2023-02-20T20:55:26.654879Z"
    }
   },
   "outputs": [
    {
     "data": {
      "application/vnd.jupyter.widget-view+json": {
       "model_id": "f888b1af904a4eacbe2d0ac784382ecc",
       "version_major": 2,
       "version_minor": 0
      },
      "text/plain": [
       "NGLWidget()"
      ]
     },
     "metadata": {},
     "output_type": "display_data"
    }
   ],
   "source": [
    "w = nv.show_mdanalysis(atmGrp)\n",
    "\n",
    "w._remote_call(\"setSize\", target=\"Widget\", args=[\"800px\", \"600px\"])\n",
    "w.parameters = dict(theme='light')\n",
    "\n",
    "w.clear_representations()\n",
    "w.add_representation(repr_type=\"ball+stick\", selection=\"all\")\n",
    "\n",
    "showNodeGroups(w, atmGrp, usrNodeGroups, node_atm_sel=\"CC1\")\n",
    "\n",
    "w"
   ]
  },
  {
   "cell_type": "markdown",
   "id": "f109487f",
   "metadata": {},
   "source": [
    "# The End"
   ]
  }
 ],
 "metadata": {
  "kernelspec": {
   "display_name": "Python 3 (ipykernel)",
   "language": "python",
   "name": "python3"
  },
  "language_info": {
   "codemirror_mode": {
    "name": "ipython",
    "version": 3
   },
   "file_extension": ".py",
   "mimetype": "text/x-python",
   "name": "python",
   "nbconvert_exporter": "python",
   "pygments_lexer": "ipython3",
   "version": "3.9.12"
  }
 },
 "nbformat": 4,
 "nbformat_minor": 5
}
